{
 "cells": [
  {
   "cell_type": "code",
   "execution_count": 2,
   "metadata": {},
   "outputs": [],
   "source": [
    "import tensorflow as tf\n",
    "import numpy as np\n",
    "import matplotlib.pyplot as plt\n",
    "import os\n",
    "import cv2\n",
    "from tqdm import tqdm\n",
    "import random\n",
    "import pandas as pd "
   ]
  },
  {
   "cell_type": "code",
   "execution_count": 3,
   "metadata": {},
   "outputs": [],
   "source": [
    "from sklearn.datasets import load_files\n",
    "import numpy as np\n",
    "DATADIR = \"../dataset/fruits-360/Training\"\n",
    "DATADIR_test = \"../dataset/fruits-360/Test\"\n",
    "\n",
    "CATEGORIES = [\"Apple Braeburn\",\"Apple Crimson Snow\",\"Apple Golden 1\",\"Apple Golden 2\",\"Apple Golden 3\",\n",
    "              \"Apple Granny Smith\",\"Apple Pink Lady\",\"Apple Red 1\", \"Apple Red 2\",\"Apple Red 3\",\"Apple Red Delicious\",\n",
    "              \"Apple Red Yellow 1\",\"Apple Red Yellow 2\",\"Banana\",\n",
    "              \"Plum\",\"Plum 2\", \"Plum 3\",\n",
    "             \"Pepper Yellow\",\"Pepper Red\",\"Pepper Green\",\n",
    "              \"Cherry 1\", \"Cherry 2\", \"Cherry Rainier\", \"Cherry Wax Black\", \"Cherry Wax Red\",\"Cherry Wax Yellow\",\n",
    "              \"Grape Blue\", \"Grape Pink\", \"Grape White\", \"Grape White 2\", \"Grape White 3\", \"Grape White 4\",\n",
    "            \"Tomato 1\",\"Tomato 2\",\"Tomato 3\",\"Tomato 4\",\"Tomato Yellow\",\"Tomato Maroon\",\n",
    "            \"Pear\",\"Pear Abate\",\"Pear Forelle\",\"Pear Kaiser\",\"Pear Monster\",\"Pear Red\",\"Pear Williams\",\n",
    "             \"Peach\",\"Peach 2\",\"Peach Flat\",\n",
    "             \"Potato Red\", \"Potato Red Washed\",\"Potato White\",\"Potato Sweet\"\n",
    "             ]\n",
    "\n",
    "##TYPES = [\"Apple\", \"Banana\", \"Plum\", \"Pepper\", \"Cherry\", \"Grape\", \"Tomato\", \"Potato\", \"Pear\", \"Peach\"]\n",
    "TYPES = [\"Apple\", \"Banana\", \"Plum\", \"Pepper\", \"Cherry\", \"Grape\", \"Tomato\", \"Potato\", \"Pear\", \"Peach\"]\n",
    "fruits= {}\n",
    "for cat in CATEGORIES:\n",
    "    for typ in TYPES:\n",
    "        if(cat.startswith(typ)):\n",
    "            fruits[cat] = typ\n"
   ]
  },
  {
   "cell_type": "code",
   "execution_count": 13,
   "metadata": {},
   "outputs": [
    {
     "name": "stderr",
     "output_type": "stream",
     "text": [
      "100%|████████████████████████████████████| 492/492 [00:00<00:00, 245461.83it/s]\n",
      "100%|████████████████████████████████████| 444/444 [00:00<00:00, 222122.02it/s]\n",
      "100%|████████████████████████████████████| 480/480 [00:00<00:00, 238566.88it/s]\n",
      "100%|████████████████████████████████████| 492/492 [00:00<00:00, 247701.06it/s]\n",
      "100%|████████████████████████████████████| 481/481 [00:00<00:00, 239205.62it/s]\n",
      "100%|████████████████████████████████████| 492/492 [00:00<00:00, 491918.37it/s]\n",
      "100%|████████████████████████████████████| 456/456 [00:00<00:00, 228698.15it/s]\n",
      "100%|████████████████████████████████████| 492/492 [00:00<00:00, 244647.01it/s]\n",
      "100%|████████████████████████████████████| 492/492 [00:00<00:00, 246076.50it/s]\n",
      "100%|████████████████████████████████████| 429/429 [00:00<00:00, 214643.49it/s]\n",
      "100%|████████████████████████████████████| 490/490 [00:00<00:00, 247347.33it/s]\n",
      "100%|████████████████████████████████████| 492/492 [00:00<00:00, 247019.10it/s]\n",
      "100%|████████████████████████████████████| 672/672 [00:00<00:00, 224034.04it/s]\n",
      "100%|████████████████████████████████████| 490/490 [00:00<00:00, 245251.67it/s]\n",
      "100%|████████████████████████████████████| 447/447 [00:00<00:00, 223676.20it/s]\n",
      "100%|████████████████████████████████████| 420/420 [00:00<00:00, 210115.42it/s]\n",
      "100%|████████████████████████████████████| 900/900 [00:00<00:00, 300141.02it/s]\n",
      "100%|████████████████████████████████████| 666/666 [00:00<00:00, 333143.29it/s]\n",
      "100%|████████████████████████████████████| 666/666 [00:00<00:00, 333103.56it/s]\n",
      "100%|████████████████████████████████████| 444/444 [00:00<00:00, 444350.03it/s]\n",
      "100%|████████████████████████████████████| 492/492 [00:00<00:00, 246164.57it/s]\n",
      "100%|████████████████████████████████████| 738/738 [00:00<00:00, 369026.75it/s]\n",
      "100%|████████████████████████████████████| 738/738 [00:00<00:00, 369114.76it/s]\n",
      "100%|████████████████████████████████████| 492/492 [00:00<00:00, 491449.77it/s]\n",
      "100%|████████████████████████████████████| 492/492 [00:00<00:00, 246135.21it/s]\n",
      "100%|████████████████████████████████████| 492/492 [00:00<00:00, 492035.66it/s]\n",
      "100%|████████████████████████████████████| 984/984 [00:00<00:00, 328102.01it/s]\n",
      "100%|████████████████████████████████████| 492/492 [00:00<00:00, 246193.94it/s]\n",
      "100%|████████████████████████████████████| 490/490 [00:00<00:00, 245046.97it/s]\n",
      "100%|████████████████████████████████████| 490/490 [00:00<00:00, 245222.40it/s]\n",
      "100%|████████████████████████████████████| 492/492 [00:00<00:00, 492270.41it/s]\n",
      "100%|████████████████████████████████████| 471/471 [00:00<00:00, 235629.44it/s]\n",
      "100%|████████████████████████████████████| 738/738 [00:00<00:00, 246135.21it/s]\n",
      "100%|████████████████████████████████████| 672/672 [00:00<00:00, 336345.14it/s]\n",
      "100%|████████████████████████████████████| 738/738 [00:00<00:00, 369158.78it/s]\n",
      "100%|████████████████████████████████████| 479/479 [00:00<00:00, 239517.36it/s]\n",
      "100%|████████████████████████████████████| 459/459 [00:00<00:00, 229653.53it/s]\n",
      "100%|████████████████████████████████████| 367/367 [00:00<00:00, 367376.99it/s]\n",
      "100%|████████████████████████████████████| 492/492 [00:00<00:00, 491801.14it/s]\n",
      "100%|████████████████████████████████████| 490/490 [00:00<00:00, 245163.90it/s]\n",
      "100%|████████████████████████████████████| 702/702 [00:00<00:00, 234147.23it/s]\n",
      "100%|████████████████████████████████████| 300/300 [00:00<00:00, 150046.65it/s]\n",
      "100%|████████████████████████████████████| 490/490 [00:00<00:00, 490386.29it/s]\n",
      "100%|████████████████████████████████████| 666/666 [00:00<00:00, 333262.52it/s]\n",
      "100%|████████████████████████████████████| 490/490 [00:00<00:00, 245105.42it/s]\n",
      "100%|████████████████████████████████████| 492/492 [00:00<00:00, 246135.21it/s]\n",
      "100%|████████████████████████████████████| 738/738 [00:00<00:00, 246096.07it/s]\n",
      "100%|████████████████████████████████████| 492/492 [00:00<00:00, 246017.83it/s]\n",
      "100%|████████████████████████████████████| 450/450 [00:00<00:00, 450247.33it/s]\n",
      "100%|████████████████████████████████████| 453/453 [00:00<00:00, 226543.43it/s]\n",
      "100%|████████████████████████████████████| 450/450 [00:00<00:00, 225150.52it/s]\n",
      "100%|████████████████████████████████████| 450/450 [00:00<00:00, 225204.25it/s]\n",
      "100%|████████████████████████████████████| 164/164 [00:00<00:00, 164011.89it/s]\n",
      "100%|████████████████████████████████████| 148/148 [00:00<00:00, 148046.03it/s]\n",
      "100%|████████████████████████████████████| 160/160 [00:00<00:00, 160317.40it/s]\n",
      "100%|████████████████████████████████████████████████| 164/164 [00:00<?, ?it/s]\n",
      "100%|████████████████████████████████████████████████| 161/161 [00:00<?, ?it/s]\n",
      "100%|████████████████████████████████████████████████| 164/164 [00:00<?, ?it/s]\n",
      "100%|████████████████████████████████████████████████| 152/152 [00:00<?, ?it/s]\n",
      "100%|████████████████████████████████████| 164/164 [00:00<00:00, 164129.29it/s]\n",
      "100%|████████████████████████████████████████████████| 164/164 [00:00<?, ?it/s]\n",
      "100%|████████████████████████████████████| 144/144 [00:00<00:00, 143976.11it/s]\n",
      "100%|████████████████████████████████████| 166/166 [00:00<00:00, 166170.52it/s]\n",
      "100%|████████████████████████████████████| 164/164 [00:00<00:00, 164129.29it/s]\n",
      "100%|████████████████████████████████████| 219/219 [00:00<00:00, 219172.65it/s]\n",
      "100%|████████████████████████████████████| 166/166 [00:00<00:00, 166091.24it/s]\n",
      "100%|████████████████████████████████████████████████| 151/151 [00:00<?, ?it/s]\n",
      "100%|████████████████████████████████████| 142/142 [00:00<00:00, 142010.29it/s]\n",
      "100%|████████████████████████████████████| 304/304 [00:00<00:00, 303949.56it/s]\n",
      "100%|████████████████████████████████████| 222/222 [00:00<00:00, 111047.76it/s]\n",
      "100%|████████████████████████████████████| 222/222 [00:00<00:00, 222175.02it/s]\n",
      "100%|████████████████████████████████████| 148/148 [00:00<00:00, 148116.68it/s]\n",
      "100%|████████████████████████████████████| 164/164 [00:00<00:00, 164129.29it/s]\n",
      "100%|████████████████████████████████████| 246/246 [00:00<00:00, 246135.21it/s]\n",
      "100%|████████████████████████████████████████████████| 246/246 [00:00<?, ?it/s]\n",
      "100%|████████████████████████████████████████████████| 164/164 [00:00<?, ?it/s]\n",
      "100%|████████████████████████████████████| 164/164 [00:00<00:00, 164090.14it/s]\n",
      "100%|████████████████████████████████████| 164/164 [00:00<00:00, 164246.86it/s]\n",
      "100%|████████████████████████████████████| 328/328 [00:00<00:00, 164090.14it/s]\n",
      "100%|████████████████████████████████████████████████| 164/164 [00:00<?, ?it/s]\n",
      "100%|████████████████████████████████████| 166/166 [00:00<00:00, 166091.24it/s]\n",
      "100%|████████████████████████████████████████████████| 166/166 [00:00<?, ?it/s]\n",
      "100%|████████████████████████████████████| 164/164 [00:00<00:00, 164090.14it/s]\n",
      "100%|████████████████████████████████████| 158/158 [00:00<00:00, 158162.30it/s]\n",
      "100%|████████████████████████████████████| 246/246 [00:00<00:00, 123067.60it/s]\n",
      "100%|████████████████████████████████████████████████| 225/225 [00:00<?, ?it/s]\n",
      "100%|████████████████████████████████████| 246/246 [00:00<00:00, 246076.50it/s]\n",
      "100%|████████████████████████████████████████████████| 160/160 [00:00<?, ?it/s]\n",
      "100%|████████████████████████████████████| 153/153 [00:00<00:00, 153047.58it/s]\n",
      "100%|████████████████████████████████████| 127/127 [00:00<00:00, 127100.12it/s]\n",
      "100%|████████████████████████████████████████████████| 164/164 [00:00<?, ?it/s]\n",
      "100%|████████████████████████████████████| 166/166 [00:00<00:00, 166170.52it/s]\n",
      "100%|████████████████████████████████████| 234/234 [00:00<00:00, 234184.48it/s]\n",
      "100%|████████████████████████████████████| 102/102 [00:00<00:00, 102007.39it/s]\n",
      "100%|████████████████████████████████████████████████| 166/166 [00:00<?, ?it/s]\n",
      "100%|████████████████████████████████████| 222/222 [00:00<00:00, 222122.02it/s]\n",
      "100%|████████████████████████████████████| 166/166 [00:00<00:00, 166091.24it/s]\n",
      "100%|████████████████████████████████████| 164/164 [00:00<00:00, 164051.00it/s]\n",
      "100%|████████████████████████████████████| 246/246 [00:00<00:00, 246017.83it/s]\n",
      "100%|████████████████████████████████████████████████| 164/164 [00:00<?, ?it/s]\n",
      "100%|████████████████████████████████████| 150/150 [00:00<00:00, 149975.11it/s]\n",
      "100%|████████████████████████████████████████████████| 151/151 [00:00<?, ?it/s]\n"
     ]
    },
    {
     "name": "stderr",
     "output_type": "stream",
     "text": [
      "100%|████████████████████████████████████| 150/150 [00:00<00:00, 150189.93it/s]\n",
      "100%|████████████████████████████████████| 150/150 [00:00<00:00, 150189.93it/s]\n"
     ]
    }
   ],
   "source": [
    "def load_dataset(dire):\n",
    "    lis_files = []\n",
    "    lis_num_lab =[]\n",
    "    lis_name_lab = []\n",
    "    for category in CATEGORIES:\n",
    "        path = os.path.join(dire,category)\n",
    "        class_num =TYPES.index(fruits[category])\n",
    "\n",
    "        class_name = fruits[category]\n",
    "        for img in tqdm(os.listdir(path)):\n",
    "               # print(\"OK: \",os.path.join(path,img) )\n",
    "                lis_files.append(os.path.join(path,img))\n",
    "                lis_name_lab.append(class_name)\n",
    "                lis_num_lab.append(class_num)\n",
    "                #print(\"path:  \",os.path.join(path,img),\" \\n Name: \",class_name,\" \\n Id: \",class_num)\n",
    "\n",
    "    return pd.DataFrame(list(zip(lis_files,lis_num_lab,lis_name_lab)),columns=('path','label_id',\"label_name\"))\n",
    "\n",
    "all_train = load_dataset(DATADIR)\n",
    "all_test = load_dataset(DATADIR_test)\n",
    "#x_train, y_train,target_labels = load_dataset(DATADIR)\n",
    "#x_test, y_test,_ = load_dataset(DATADIR_test)\n",
    "#print('Loading complete!')\n",
    "\n",
    "#print('Training set size : ' , x_train.shape[0])\n",
    "#print('Testing set size : ', x_test.shape[0])"
   ]
  },
  {
   "cell_type": "code",
   "execution_count": 42,
   "metadata": {},
   "outputs": [
    {
     "data": {
      "text/html": [
       "<div>\n",
       "<style scoped>\n",
       "    .dataframe tbody tr th:only-of-type {\n",
       "        vertical-align: middle;\n",
       "    }\n",
       "\n",
       "    .dataframe tbody tr th {\n",
       "        vertical-align: top;\n",
       "    }\n",
       "\n",
       "    .dataframe thead th {\n",
       "        text-align: right;\n",
       "    }\n",
       "</style>\n",
       "<table border=\"1\" class=\"dataframe\">\n",
       "  <thead>\n",
       "    <tr style=\"text-align: right;\">\n",
       "      <th></th>\n",
       "      <th>path</th>\n",
       "      <th>label_name</th>\n",
       "      <th>label_id</th>\n",
       "    </tr>\n",
       "  </thead>\n",
       "  <tbody>\n",
       "    <tr>\n",
       "      <td>0</td>\n",
       "      <td>../dataset/fruits-360/Training\\Peach 2\\290_100...</td>\n",
       "      <td>Peach</td>\n",
       "      <td>9</td>\n",
       "    </tr>\n",
       "    <tr>\n",
       "      <td>1</td>\n",
       "      <td>../dataset/fruits-360/Training\\Pepper Red\\r_13...</td>\n",
       "      <td>Pepper</td>\n",
       "      <td>3</td>\n",
       "    </tr>\n",
       "    <tr>\n",
       "      <td>2</td>\n",
       "      <td>../dataset/fruits-360/Training\\Cherry Rainier\\...</td>\n",
       "      <td>Cherry</td>\n",
       "      <td>4</td>\n",
       "    </tr>\n",
       "    <tr>\n",
       "      <td>3</td>\n",
       "      <td>../dataset/fruits-360/Training\\Tomato 1\\r2_310...</td>\n",
       "      <td>Tomato</td>\n",
       "      <td>6</td>\n",
       "    </tr>\n",
       "    <tr>\n",
       "      <td>4</td>\n",
       "      <td>../dataset/fruits-360/Training\\Peach\\195_100.jpg</td>\n",
       "      <td>Peach</td>\n",
       "      <td>9</td>\n",
       "    </tr>\n",
       "    <tr>\n",
       "      <td>...</td>\n",
       "      <td>...</td>\n",
       "      <td>...</td>\n",
       "      <td>...</td>\n",
       "    </tr>\n",
       "    <tr>\n",
       "      <td>27903</td>\n",
       "      <td>../dataset/fruits-360/Training\\Tomato 1\\84_100...</td>\n",
       "      <td>Tomato</td>\n",
       "      <td>6</td>\n",
       "    </tr>\n",
       "    <tr>\n",
       "      <td>27904</td>\n",
       "      <td>../dataset/fruits-360/Training\\Cherry Wax Yell...</td>\n",
       "      <td>Cherry</td>\n",
       "      <td>4</td>\n",
       "    </tr>\n",
       "    <tr>\n",
       "      <td>27905</td>\n",
       "      <td>../dataset/fruits-360/Training\\Pear\\r_264_100.jpg</td>\n",
       "      <td>Pear</td>\n",
       "      <td>8</td>\n",
       "    </tr>\n",
       "    <tr>\n",
       "      <td>27906</td>\n",
       "      <td>../dataset/fruits-360/Training\\Pepper Red\\r2_2...</td>\n",
       "      <td>Pepper</td>\n",
       "      <td>3</td>\n",
       "    </tr>\n",
       "    <tr>\n",
       "      <td>27907</td>\n",
       "      <td>../dataset/fruits-360/Training\\Tomato 2\\r_294_...</td>\n",
       "      <td>Tomato</td>\n",
       "      <td>6</td>\n",
       "    </tr>\n",
       "  </tbody>\n",
       "</table>\n",
       "<p>27908 rows × 3 columns</p>\n",
       "</div>"
      ],
      "text/plain": [
       "                                                    path label_name  label_id\n",
       "0      ../dataset/fruits-360/Training\\Peach 2\\290_100...      Peach         9\n",
       "1      ../dataset/fruits-360/Training\\Pepper Red\\r_13...     Pepper         3\n",
       "2      ../dataset/fruits-360/Training\\Cherry Rainier\\...     Cherry         4\n",
       "3      ../dataset/fruits-360/Training\\Tomato 1\\r2_310...     Tomato         6\n",
       "4       ../dataset/fruits-360/Training\\Peach\\195_100.jpg      Peach         9\n",
       "...                                                  ...        ...       ...\n",
       "27903  ../dataset/fruits-360/Training\\Tomato 1\\84_100...     Tomato         6\n",
       "27904  ../dataset/fruits-360/Training\\Cherry Wax Yell...     Cherry         4\n",
       "27905  ../dataset/fruits-360/Training\\Pear\\r_264_100.jpg       Pear         8\n",
       "27906  ../dataset/fruits-360/Training\\Pepper Red\\r2_2...     Pepper         3\n",
       "27907  ../dataset/fruits-360/Training\\Tomato 2\\r_294_...     Tomato         6\n",
       "\n",
       "[27908 rows x 3 columns]"
      ]
     },
     "execution_count": 42,
     "metadata": {},
     "output_type": "execute_result"
    }
   ],
   "source": [
    "all_train.sample(frac=1, axis=1).sample(frac=1).reset_index(drop=True)"
   ]
  },
  {
   "cell_type": "code",
   "execution_count": 43,
   "metadata": {},
   "outputs": [],
   "source": [
    "all_train = all_train.sample(frac=1, axis=1).sample(frac=1).reset_index(drop=True)\n",
    "all_test = all_test.sample(frac=1, axis=1).sample(frac=1).reset_index(drop=True)\n",
    "\n",
    "x_train = np.array(all_train[\"path\"])\n",
    "y_train = np.array(all_train[\"label_id\"])\n",
    "target_labels= np.array(all_train[\"label_name\"])\n",
    "\n",
    "x_test = np.array(all_test[\"path\"])\n",
    "y_test = np.array(all_test[\"label_id\"])\n"
   ]
  },
  {
   "cell_type": "code",
   "execution_count": 232,
   "metadata": {},
   "outputs": [
    {
     "name": "stdout",
     "output_type": "stream",
     "text": [
      "['../dataset/fruits-360/Training\\\\Pear Kaiser\\\\r_161_100.jpg'\n",
      " '../dataset/fruits-360/Training\\\\Plum 2\\\\r_110_100.jpg'\n",
      " '../dataset/fruits-360/Training\\\\Banana Lady Finger\\\\r_79_100.jpg' ...\n",
      " '../dataset/fruits-360/Training\\\\Pepper Green\\\\78_100.jpg'\n",
      " '../dataset/fruits-360/Training\\\\Pepper Yellow\\\\209_100.jpg'\n",
      " '../dataset/fruits-360/Training\\\\Apple Granny Smith\\\\r_188_100.jpg']\n",
      "[81 95 17 ... 86 88  5]\n",
      "['Apple Braeburn' 'Apple Crimson Snow' 'Apple Golden 1' 'Apple Golden 2'\n",
      " 'Apple Golden 3' 'Apple Granny Smith' 'Apple Pink Lady' 'Apple Red 1'\n",
      " 'Apple Red 2' 'Apple Red 3' 'Apple Red Delicious' 'Apple Red Yellow 1'\n",
      " 'Apple Red Yellow 2' 'Apricot' 'Avocado' 'Avocado ripe' 'Banana'\n",
      " 'Banana Lady Finger' 'Banana Red' 'Beetroot' 'Blueberry' 'Cactus fruit'\n",
      " 'Cantaloupe 1' 'Cantaloupe 2' 'Carambula' 'Cauliflower' 'Cherry 1'\n",
      " 'Cherry 2' 'Cherry Rainier' 'Cherry Wax Black' 'Cherry Wax Red'\n",
      " 'Cherry Wax Yellow' 'Chestnut' 'Clementine' 'Cocos' 'Dates' 'Eggplant'\n",
      " 'Ginger Root' 'Granadilla' 'Grape Blue' 'Grape Pink' 'Grape White'\n",
      " 'Grape White 2' 'Grape White 3' 'Grape White 4' 'Grapefruit Pink'\n",
      " 'Grapefruit White' 'Guava' 'Hazelnut' 'Huckleberry' 'Kaki' 'Kiwi'\n",
      " 'Kohlrabi' 'Kumquats' 'Lemon' 'Lemon Meyer' 'Limes' 'Lychee' 'Mandarine'\n",
      " 'Mango' 'Mango Red' 'Mangostan' 'Maracuja' 'Melon Piel de Sapo'\n",
      " 'Mulberry' 'Nectarine' 'Nectarine Flat' 'Nut Forest' 'Nut Pecan'\n",
      " 'Onion Red' 'Onion Red Peeled' 'Onion White' 'Orange' 'Papaya'\n",
      " 'Passion Fruit' 'Peach' 'Peach 2' 'Peach Flat' 'Pear' 'Pear Abate'\n",
      " 'Pear Forelle' 'Pear Kaiser' 'Pear Monster' 'Pear Red' 'Pear Williams'\n",
      " 'Pepino' 'Pepper Green' 'Pepper Red' 'Pepper Yellow' 'Physalis'\n",
      " 'Physalis with Husk' 'Pineapple' 'Pineapple Mini' 'Pitahaya Red' 'Plum'\n",
      " 'Plum 2' 'Plum 3' 'Pomegranate' 'Pomelo Sweetie' 'Potato Red'\n",
      " 'Potato Red Washed' 'Potato Sweet' 'Potato White' 'Quince' 'Rambutan'\n",
      " 'Raspberry' 'Redcurrant' 'Salak' 'Strawberry' 'Strawberry Wedge'\n",
      " 'Tamarillo' 'Tangelo' 'Tomato 1' 'Tomato 2' 'Tomato 3' 'Tomato 4'\n",
      " 'Tomato Cherry Red' 'Tomato Maroon' 'Tomato Yellow' 'Walnut']\n",
      "['../dataset/fruits-360/Test\\\\Apple Braeburn\\\\93_100.jpg'\n",
      " '../dataset/fruits-360/Test\\\\Grape Blue\\\\509_100.jpg'\n",
      " '../dataset/fruits-360/Test\\\\Onion Red Peeled\\\\31_100.jpg' ...\n",
      " '../dataset/fruits-360/Test\\\\Mandarine\\\\249_100.jpg'\n",
      " '../dataset/fruits-360/Test\\\\Mulberry\\\\203_100.jpg'\n",
      " '../dataset/fruits-360/Test\\\\Banana\\\\r_320_100.jpg']\n",
      "[ 0 39 70 ... 58 64 16]\n",
      "['Apple Braeburn' 'Apple Crimson Snow' 'Apple Golden 1' 'Apple Golden 2'\n",
      " 'Apple Golden 3' 'Apple Granny Smith' 'Apple Pink Lady' 'Apple Red 1'\n",
      " 'Apple Red 2' 'Apple Red 3' 'Apple Red Delicious' 'Apple Red Yellow 1'\n",
      " 'Apple Red Yellow 2' 'Apricot' 'Avocado' 'Avocado ripe' 'Banana'\n",
      " 'Banana Lady Finger' 'Banana Red' 'Beetroot' 'Blueberry' 'Cactus fruit'\n",
      " 'Cantaloupe 1' 'Cantaloupe 2' 'Carambula' 'Cauliflower' 'Cherry 1'\n",
      " 'Cherry 2' 'Cherry Rainier' 'Cherry Wax Black' 'Cherry Wax Red'\n",
      " 'Cherry Wax Yellow' 'Chestnut' 'Clementine' 'Cocos' 'Dates' 'Eggplant'\n",
      " 'Ginger Root' 'Granadilla' 'Grape Blue' 'Grape Pink' 'Grape White'\n",
      " 'Grape White 2' 'Grape White 3' 'Grape White 4' 'Grapefruit Pink'\n",
      " 'Grapefruit White' 'Guava' 'Hazelnut' 'Huckleberry' 'Kaki' 'Kiwi'\n",
      " 'Kohlrabi' 'Kumquats' 'Lemon' 'Lemon Meyer' 'Limes' 'Lychee' 'Mandarine'\n",
      " 'Mango' 'Mango Red' 'Mangostan' 'Maracuja' 'Melon Piel de Sapo'\n",
      " 'Mulberry' 'Nectarine' 'Nectarine Flat' 'Nut Forest' 'Nut Pecan'\n",
      " 'Onion Red' 'Onion Red Peeled' 'Onion White' 'Orange' 'Papaya'\n",
      " 'Passion Fruit' 'Peach' 'Peach 2' 'Peach Flat' 'Pear' 'Pear Abate'\n",
      " 'Pear Forelle' 'Pear Kaiser' 'Pear Monster' 'Pear Red' 'Pear Williams'\n",
      " 'Pepino' 'Pepper Green' 'Pepper Red' 'Pepper Yellow' 'Physalis'\n",
      " 'Physalis with Husk' 'Pineapple' 'Pineapple Mini' 'Pitahaya Red' 'Plum'\n",
      " 'Plum 2' 'Plum 3' 'Pomegranate' 'Pomelo Sweetie' 'Potato Red'\n",
      " 'Potato Red Washed' 'Potato Sweet' 'Potato White' 'Quince' 'Rambutan'\n",
      " 'Raspberry' 'Redcurrant' 'Salak' 'Strawberry' 'Strawberry Wedge'\n",
      " 'Tamarillo' 'Tangelo' 'Tomato 1' 'Tomato 2' 'Tomato 3' 'Tomato 4'\n",
      " 'Tomato Cherry Red' 'Tomato Maroon' 'Tomato Yellow' 'Walnut']\n",
      "Loading complete!\n",
      "Training set size :  60486\n",
      "Testing set size :  20618\n"
     ]
    }
   ],
   "source": [
    "def load_dataset(path):\n",
    "    data = load_files(path)\n",
    "    files = np.array(data['filenames'])\n",
    "    print(files)\n",
    "    targets = np.array(data['target'])\n",
    "    print(targets)\n",
    "    target_labels = np.array(data['target_names'])\n",
    "    print(target_labels)\n",
    "    return files,targets,target_labels\n",
    "    \n",
    "x_train, y_train,target_labels = load_dataset(DATADIR)\n",
    "x_test, y_test,_ = load_dataset(DATADIR_test)\n",
    "print('Loading complete!')\n",
    "\n",
    "print('Training set size : ' , x_train.shape[0])\n",
    "print('Testing set size : ', x_test.shape[0])"
   ]
  },
  {
   "cell_type": "code",
   "execution_count": 44,
   "metadata": {},
   "outputs": [
    {
     "data": {
      "text/plain": [
       "array(['../dataset/fruits-360/Training\\\\Cherry Wax Black\\\\r_185_100.jpg',\n",
       "       '../dataset/fruits-360/Training\\\\Cherry 2\\\\r2_69_100.jpg',\n",
       "       '../dataset/fruits-360/Training\\\\Pear Monster\\\\176_100.jpg', ...,\n",
       "       '../dataset/fruits-360/Training\\\\Cherry Wax Yellow\\\\r_159_100.jpg',\n",
       "       '../dataset/fruits-360/Training\\\\Tomato 3\\\\r_291_100.jpg',\n",
       "       '../dataset/fruits-360/Training\\\\Grape White\\\\r_258_100.jpg'],\n",
       "      dtype=object)"
      ]
     },
     "execution_count": 44,
     "metadata": {},
     "output_type": "execute_result"
    }
   ],
   "source": [
    "x_train"
   ]
  },
  {
   "cell_type": "code",
   "execution_count": 45,
   "metadata": {},
   "outputs": [
    {
     "data": {
      "text/plain": [
       "array(['Cherry', 'Cherry', 'Pear', ..., 'Cherry', 'Tomato', 'Grape'],\n",
       "      dtype=object)"
      ]
     },
     "execution_count": 45,
     "metadata": {},
     "output_type": "execute_result"
    }
   ],
   "source": [
    "target_labels"
   ]
  },
  {
   "cell_type": "code",
   "execution_count": 46,
   "metadata": {},
   "outputs": [
    {
     "data": {
      "text/plain": [
       "array([4, 4, 8, ..., 4, 6, 5], dtype=int64)"
      ]
     },
     "execution_count": 46,
     "metadata": {},
     "output_type": "execute_result"
    }
   ],
   "source": [
    "y_train    "
   ]
  },
  {
   "cell_type": "code",
   "execution_count": 47,
   "metadata": {},
   "outputs": [
    {
     "name": "stdout",
     "output_type": "stream",
     "text": [
      "(27908,)\n",
      "(27908,)\n",
      "(9335,)\n",
      "(9335,)\n"
     ]
    },
    {
     "data": {
      "text/plain": [
       "array([4, 4, 8, ..., 4, 6, 5], dtype=int64)"
      ]
     },
     "execution_count": 47,
     "metadata": {},
     "output_type": "execute_result"
    }
   ],
   "source": [
    "print(x_train.shape)\n",
    "print(y_train.shape)\n",
    "print(x_test.shape)\n",
    "print(y_test.shape)\n",
    "\n",
    "y_train"
   ]
  },
  {
   "cell_type": "code",
   "execution_count": 48,
   "metadata": {},
   "outputs": [
    {
     "name": "stdout",
     "output_type": "stream",
     "text": [
      "10\n"
     ]
    }
   ],
   "source": [
    "from keras.utils import np_utils\n",
    "no_of_classes = len(np.unique(y_train))\n",
    "y_train = np_utils.to_categorical(y_train,no_of_classes)\n",
    "y_test = np_utils.to_categorical(y_test,no_of_classes)\n",
    "y_train[0]\n",
    "print(no_of_classes)"
   ]
  },
  {
   "cell_type": "code",
   "execution_count": 49,
   "metadata": {},
   "outputs": [
    {
     "name": "stdout",
     "output_type": "stream",
     "text": [
      "Vaildation X :  (7000,)\n",
      "Vaildation y : (7000, 10)\n",
      "Test X :  (2335,)\n",
      "Test y :  (2335, 10)\n"
     ]
    }
   ],
   "source": [
    "\n",
    "\n",
    "# Now, we have to divide the validation set into test and validation set\n",
    "x_test,x_valid = x_test[7000:],x_test[:7000]\n",
    "y_test,y_vaild = y_test[7000:],y_test[:7000]\n",
    "print('Vaildation X : ',x_valid.shape)\n",
    "print('Vaildation y :',y_vaild.shape)\n",
    "print('Test X : ',x_test.shape)\n",
    "print('Test y : ',y_test.shape)\n",
    "\n"
   ]
  },
  {
   "cell_type": "code",
   "execution_count": null,
   "metadata": {},
   "outputs": [],
   "source": []
  },
  {
   "cell_type": "code",
   "execution_count": 50,
   "metadata": {},
   "outputs": [
    {
     "name": "stdout",
     "output_type": "stream",
     "text": [
      "Training set shape :  (27908, 32, 32, 3)\n",
      "Validation set shape :  (7000, 32, 32, 3)\n",
      "Test set shape :  (2335, 32, 32, 3)\n",
      "1st training image shape  (32, 32, 3)\n"
     ]
    }
   ],
   "source": [
    "from keras.preprocessing.image import array_to_img, img_to_array, load_img\n",
    "\n",
    "def convert_image_to_array(files):\n",
    "    images_as_array=[]\n",
    "    for file in files:\n",
    "        # Convert to Numpy Array\n",
    "        images_as_array.append(img_to_array(load_img(file,target_size=(32, 32))))\n",
    "    return images_as_array\n",
    "\n",
    "x_train = np.array(convert_image_to_array(x_train))\n",
    "print('Training set shape : ',x_train.shape)\n",
    "\n",
    "x_valid = np.array(convert_image_to_array(x_valid))\n",
    "print('Validation set shape : ',x_valid.shape)\n",
    "\n",
    "x_test = np.array(convert_image_to_array(x_test))\n",
    "print('Test set shape : ',x_test.shape)\n",
    "\n",
    "print('1st training image shape ',x_train[0].shape)\n"
   ]
  },
  {
   "cell_type": "code",
   "execution_count": 51,
   "metadata": {},
   "outputs": [],
   "source": [
    "x_train = x_train.astype('float32')/255\n",
    "x_valid = x_valid.astype('float32')/255\n",
    "x_test = x_test.astype('float32')/255"
   ]
  },
  {
   "cell_type": "code",
   "execution_count": 52,
   "metadata": {},
   "outputs": [
    {
     "data": {
      "image/png": "[encoded data removed]",
      "text/plain": [
       "<Figure size 2160x360 with 10 Axes>"
      ]
     },
     "metadata": {},
     "output_type": "display_data"
    }
   ],
   "source": [
    "import matplotlib.pyplot as plt\n",
    "\n",
    "fig = plt.figure(figsize =(30,5))\n",
    "for i in range(10):\n",
    "    ax = fig.add_subplot(2,5,i+1,xticks=[],yticks=[])\n",
    "    ax.imshow(np.squeeze(x_train[i]))"
   ]
  },
  {
   "cell_type": "code",
   "execution_count": 58,
   "metadata": {},
   "outputs": [
    {
     "name": "stdout",
     "output_type": "stream",
     "text": [
      "Model: \"sequential_2\"\n",
      "_________________________________________________________________\n",
      "Layer (type)                 Output Shape              Param #   \n",
      "=================================================================\n",
      "conv2d_5 (Conv2D)            (None, 32, 32, 16)        208       \n",
      "_________________________________________________________________\n",
      "activation_3 (Activation)    (None, 32, 32, 16)        0         \n",
      "_________________________________________________________________\n",
      "max_pooling2d_5 (MaxPooling2 (None, 16, 16, 16)        0         \n",
      "_________________________________________________________________\n",
      "conv2d_6 (Conv2D)            (None, 16, 16, 32)        2080      \n",
      "_________________________________________________________________\n",
      "max_pooling2d_6 (MaxPooling2 (None, 8, 8, 32)          0         \n",
      "_________________________________________________________________\n",
      "conv2d_7 (Conv2D)            (None, 8, 8, 64)          8256      \n",
      "_________________________________________________________________\n",
      "max_pooling2d_7 (MaxPooling2 (None, 4, 4, 64)          0         \n",
      "_________________________________________________________________\n",
      "conv2d_8 (Conv2D)            (None, 4, 4, 128)         32896     \n",
      "_________________________________________________________________\n",
      "max_pooling2d_8 (MaxPooling2 (None, 2, 2, 128)         0         \n",
      "_________________________________________________________________\n",
      "dropout_3 (Dropout)          (None, 2, 2, 128)         0         \n",
      "_________________________________________________________________\n",
      "flatten_2 (Flatten)          (None, 512)               0         \n",
      "_________________________________________________________________\n",
      "dense_3 (Dense)              (None, 150)               76950     \n",
      "_________________________________________________________________\n",
      "activation_4 (Activation)    (None, 150)               0         \n",
      "_________________________________________________________________\n",
      "dropout_4 (Dropout)          (None, 150)               0         \n",
      "_________________________________________________________________\n",
      "dense_4 (Dense)              (None, 10)                1510      \n",
      "=================================================================\n",
      "Total params: 121,900\n",
      "Trainable params: 121,900\n",
      "Non-trainable params: 0\n",
      "_________________________________________________________________\n"
     ]
    }
   ],
   "source": [
    "#Simple CNN from scratch - we are using 3 Conv layers followed by maxpooling layers.\n",
    "# At the end we add dropout, flatten and some fully connected layers(Dense).\n",
    "\n",
    "from keras.models import Sequential\n",
    "from keras.layers import Conv2D,MaxPooling2D\n",
    "from keras.layers import Activation, Dense, Flatten, Dropout\n",
    "from keras.preprocessing.image import ImageDataGenerator\n",
    "from keras.callbacks import ModelCheckpoint\n",
    "from keras import backend as K\n",
    "\n",
    "model = Sequential()\n",
    "model.add(Conv2D(filters = 16, kernel_size = 2,input_shape=(32,32,3),padding='same'))\n",
    "model.add(Activation('relu'))\n",
    "model.add(MaxPooling2D(pool_size=2))\n",
    "\n",
    "model.add(Conv2D(filters = 32,kernel_size = 2,activation= 'relu',padding='same'))\n",
    "model.add(MaxPooling2D(pool_size=2))\n",
    "\n",
    "model.add(Conv2D(filters = 64,kernel_size = 2,activation= 'relu',padding='same'))\n",
    "model.add(MaxPooling2D(pool_size=2))\n",
    "\n",
    "model.add(Conv2D(filters = 128,kernel_size = 2,activation= 'relu',padding='same'))\n",
    "model.add(MaxPooling2D(pool_size=2))\n",
    "\n",
    "model.add(Dropout(0.3))\n",
    "model.add(Flatten())\n",
    "model.add(Dense(150))\n",
    "model.add(Activation('relu'))\n",
    "model.add(Dropout(0.4))\n",
    "model.add(Dense(10,activation = 'softmax'))\n",
    "model.summary()"
   ]
  },
  {
   "cell_type": "code",
   "execution_count": 59,
   "metadata": {},
   "outputs": [
    {
     "name": "stdout",
     "output_type": "stream",
     "text": [
      "Compiled!\n"
     ]
    }
   ],
   "source": [
    "model.compile(loss='categorical_crossentropy',\n",
    "              optimizer='rmsprop',\n",
    "              metrics=['accuracy'])\n",
    "print('Compiled!')"
   ]
  },
  {
   "cell_type": "code",
   "execution_count": 60,
   "metadata": {},
   "outputs": [
    {
     "name": "stdout",
     "output_type": "stream",
     "text": [
      "Train on 27908 samples, validate on 7000 samples\n",
      "Epoch 1/10\n",
      " - 12s - loss: 0.8553 - accuracy: 0.7004 - val_loss: 0.6445 - val_accuracy: 0.8184\n",
      "Epoch 2/10\n",
      " - 12s - loss: 0.1395 - accuracy: 0.9523 - val_loss: 0.1868 - val_accuracy: 0.9417\n",
      "Epoch 3/10\n",
      " - 12s - loss: 0.0595 - accuracy: 0.9809 - val_loss: 0.0782 - val_accuracy: 0.9707\n",
      "Epoch 4/10\n",
      " - 12s - loss: 0.0390 - accuracy: 0.9867 - val_loss: 0.0793 - val_accuracy: 0.9737\n",
      "Epoch 5/10\n",
      " - 12s - loss: 0.0262 - accuracy: 0.9917 - val_loss: 0.1215 - val_accuracy: 0.9760\n",
      "Epoch 6/10\n",
      " - 12s - loss: 0.0230 - accuracy: 0.9929 - val_loss: 0.0703 - val_accuracy: 0.9827\n",
      "Epoch 7/10\n",
      " - 12s - loss: 0.0210 - accuracy: 0.9936 - val_loss: 0.0921 - val_accuracy: 0.9823\n",
      "Epoch 8/10\n",
      " - 12s - loss: 0.0166 - accuracy: 0.9951 - val_loss: 0.1517 - val_accuracy: 0.9823\n",
      "Epoch 9/10\n",
      " - 12s - loss: 0.0184 - accuracy: 0.9945 - val_loss: 0.0394 - val_accuracy: 0.9866\n",
      "Epoch 10/10\n",
      " - 12s - loss: 0.0134 - accuracy: 0.9966 - val_loss: 0.1143 - val_accuracy: 0.9850\n"
     ]
    }
   ],
   "source": [
    "history = model.fit(x_train,y_train,\n",
    "        batch_size = 32,\n",
    "        epochs=10,\n",
    "        validation_data=(x_valid, y_vaild),\n",
    "        verbose=2, \n",
    "     #   shuffle=True\n",
    "                   )"
   ]
  },
  {
   "cell_type": "code",
   "execution_count": null,
   "metadata": {},
   "outputs": [],
   "source": []
  },
  {
   "cell_type": "code",
   "execution_count": 61,
   "metadata": {},
   "outputs": [
    {
     "name": "stdout",
     "output_type": "stream",
     "text": [
      "\n",
      " Test accuracy: 0.9897216558456421\n"
     ]
    }
   ],
   "source": [
    "# evaluate and print test accuracy\n",
    "score = model.evaluate(x_test, y_test, verbose=0)\n",
    "print('\\n', 'Test accuracy:', score[1])"
   ]
  },
  {
   "cell_type": "code",
   "execution_count": 106,
   "metadata": {},
   "outputs": [
    {
     "data": {
      "image/png": "[encoded data removed]",
      "text/plain": [
       "<Figure size 1152x648 with 16 Axes>"
      ]
     },
     "metadata": {},
     "output_type": "display_data"
    }
   ],
   "source": [
    "y_pred = model.predict(x_test)\n",
    "\n",
    "# plot a random sample of test images, their predicted labels, and ground truth\n",
    "fig = plt.figure(figsize=(16, 9))\n",
    "for i, idx in enumerate(np.random.choice(x_test.shape[0], size=16, replace=False)):\n",
    "    ax = fig.add_subplot(4, 4, i + 1, xticks=[], yticks=[])\n",
    "    ax.imshow(np.squeeze(x_test[idx]))\n",
    "    pred_idx = np.argmax(y_pred[idx])\n",
    "    true_idx = np.argmax(y_test[idx])\n",
    "    ax.set_title(\"{} ({})\".format(TYPES[pred_idx], TYPES[true_idx]),\n",
    "                 color=(\"green\" if pred_idx == true_idx else \"red\"))"
   ]
  },
  {
   "cell_type": "code",
   "execution_count": 98,
   "metadata": {},
   "outputs": [
    {
     "data": {
      "text/plain": [
       "6"
      ]
     },
     "execution_count": 98,
     "metadata": {},
     "output_type": "execute_result"
    }
   ],
   "source": [
    "#           0          1       2        3         4         5         6         7       8       9\n",
    "#TYPES = [\"Apple\", \"Banana\", \"Plum\", \"Pepper\", \"Cherry\", \"Grape\", \"Tomato\", \"Potato\", \"Pear\", \"Peach\"]\n",
    "\n",
    "y_pred = model.predict(x_test)\n",
    "\n",
    "ind = 1330\n",
    "np.argmax(y_pred[ind])"
   ]
  },
  {
   "cell_type": "code",
   "execution_count": 100,
   "metadata": {},
   "outputs": [
    {
     "name": "stdout",
     "output_type": "stream",
     "text": [
      "6\n"
     ]
    },
    {
     "data": {
      "text/plain": [
       "<matplotlib.image.AxesImage at 0x22998e09fc8>"
      ]
     },
     "execution_count": 100,
     "metadata": {},
     "output_type": "execute_result"
    },
    {
     "data": {
      "image/png": "[encoded data removed]",
      "text/plain": [
       "<Figure size 432x288 with 1 Axes>"
      ]
     },
     "metadata": {
      "needs_background": "light"
     },
     "output_type": "display_data"
    }
   ],
   "source": [
    "print(np.argmax(y_test[ind]))\n",
    "plt.imshow(np.squeeze(x_test[ind]))  # graph it"
   ]
  },
  {
   "cell_type": "code",
   "execution_count": null,
   "metadata": {},
   "outputs": [],
   "source": []
  },
  {
   "cell_type": "code",
   "execution_count": 71,
   "metadata": {},
   "outputs": [
    {
     "data": {
      "image/png": "[encoded data removed]",
      "text/plain": [
       "<Figure size 432x288 with 2 Axes>"
      ]
     },
     "metadata": {
      "needs_background": "light"
     },
     "output_type": "display_data"
    }
   ],
   "source": [
    "#Finally lets visualize the loss and accuracy wrt epochs\n",
    "\n",
    "import matplotlib.pyplot as plt \n",
    "plt.figure(1)  \n",
    "   \n",
    " # summarize history for accuracy  \n",
    "   \n",
    "plt.subplot(211)  \n",
    "plt.plot(history.history['accuracy'])  \n",
    "plt.plot(history.history['val_accuracy'])  \n",
    "plt.title('model accuracy')  \n",
    "plt.ylabel('accuracy')  \n",
    "plt.xlabel('epoch')  \n",
    "plt.legend(['train', 'test'], loc='upper left')  \n",
    "   \n",
    " # summarize history for loss  \n",
    "   \n",
    "plt.subplot(212)  \n",
    "plt.plot(history.history['loss'])  \n",
    "plt.plot(history.history['val_loss'])  \n",
    "plt.title('model loss')  \n",
    "plt.ylabel('loss')  \n",
    "plt.xlabel('epoch')  \n",
    "plt.legend(['train', 'test'], loc='upper left')  \n",
    "plt.show()"
   ]
  },
  {
   "cell_type": "code",
   "execution_count": null,
   "metadata": {},
   "outputs": [],
   "source": []
  },
  {
   "cell_type": "code",
   "execution_count": null,
   "metadata": {},
   "outputs": [],
   "source": []
  },
  {
   "cell_type": "code",
   "execution_count": null,
   "metadata": {},
   "outputs": [],
   "source": []
  },
  {
   "cell_type": "code",
   "execution_count": null,
   "metadata": {},
   "outputs": [],
   "source": []
  },
  {
   "cell_type": "code",
   "execution_count": null,
   "metadata": {},
   "outputs": [],
   "source": []
  },
  {
   "cell_type": "code",
   "execution_count": null,
   "metadata": {},
   "outputs": [],
   "source": []
  },
  {
   "cell_type": "code",
   "execution_count": 91,
   "metadata": {},
   "outputs": [
    {
     "ename": "SyntaxError",
     "evalue": "unexpected EOF while parsing (<ipython-input-91-c1ccc66ebb1f>, line 41)",
     "output_type": "error",
     "traceback": [
      "\u001b[1;36m  File \u001b[1;32m\"<ipython-input-91-c1ccc66ebb1f>\"\u001b[1;36m, line \u001b[1;32m41\u001b[0m\n\u001b[1;33m    #callbacks=[tensorboard])\u001b[0m\n\u001b[1;37m                             ^\u001b[0m\n\u001b[1;31mSyntaxError\u001b[0m\u001b[1;31m:\u001b[0m unexpected EOF while parsing\n"
     ]
    }
   ],
   "source": [
    "dense_layers = [0, 1, 2]\n",
    "layer_sizes = [32, 64, 128]\n",
    "conv_layers = [1, 2, 3]\n",
    "\n",
    "for dense_layer in dense_layers:\n",
    "    for layer_size in layer_sizes:\n",
    "        for conv_layer in conv_layers:\n",
    "            NAME = \"Fruits-{}-conv-{}-nodes-{}-dense-{}\".format(conv_layer, layer_size, dense_layer, datetime.now().strftime(\"%d%m%Y-%H%M%S\"))\n",
    "            print(NAME)\n",
    "\n",
    "            model = Sequential()\n",
    "\n",
    "            model.add(Conv2D(layer_size, (3, 3), input_shape=X.shape[1:]))\n",
    "            model.add(Activation('relu'))\n",
    "            model.add(MaxPooling2D(pool_size=(2, 2)))\n",
    "\n",
    "            for l in range(conv_layer-1):\n",
    "                model.add(Conv2D(layer_size, (3, 3)))\n",
    "                model.add(Activation('relu'))\n",
    "                model.add(MaxPooling2D(pool_size=(2, 2)))\n",
    "\n",
    "            model.add(Flatten())\n",
    "\n",
    "            for _ in range(dense_layer):\n",
    "                model.add(Dense(layer_size))\n",
    "                model.add(Activation('relu'))\n",
    "\n",
    "            model.add(Dense(1))\n",
    "            model.add(Activation('sigmoid'))\n",
    "            \n",
    "            \n",
    "            tensorboard = TensorBoard(log_dir=\"logs/{}\".format(NAME))\n",
    "            #\n",
    "            #!\n",
    "            #categorical_crossentropy\n",
    "            #!\n",
    "            #\n",
    "            model.compile(loss='binary_crossentropy',\n",
    "              optimizer='adam',\n",
    "              metrics=['accuracy'])\n",
    "\n",
    "            training_history = model.fit(X,\n",
    "              y, \n",
    "              batch_size=32, epochs=10, validation_split=0.3,     \n",
    "              validation_data = (X_test, y_test),\n",
    "              callbacks=[tensorboard])"
   ]
  },
  {
   "cell_type": "code",
   "execution_count": 20,
   "metadata": {},
   "outputs": [
    {
     "name": "stdout",
     "output_type": "stream",
     "text": [
      "Fruits-1-conv-32-nodes-0-dense-29052020-162541\n",
      "Fruits-2-conv-32-nodes-0-dense-29052020-162541\n",
      "Fruits-3-conv-32-nodes-0-dense-29052020-162541\n",
      "Fruits-1-conv-64-nodes-0-dense-29052020-162541\n",
      "Fruits-2-conv-64-nodes-0-dense-29052020-162541\n",
      "Fruits-3-conv-64-nodes-0-dense-29052020-162541\n",
      "Fruits-1-conv-128-nodes-0-dense-29052020-162541\n",
      "Fruits-2-conv-128-nodes-0-dense-29052020-162541\n",
      "Fruits-3-conv-128-nodes-0-dense-29052020-162541\n",
      "Fruits-1-conv-32-nodes-1-dense-29052020-162541\n",
      "Fruits-2-conv-32-nodes-1-dense-29052020-162541\n",
      "Fruits-3-conv-32-nodes-1-dense-29052020-162541\n",
      "Fruits-1-conv-64-nodes-1-dense-29052020-162541\n",
      "Fruits-2-conv-64-nodes-1-dense-29052020-162541\n",
      "Fruits-3-conv-64-nodes-1-dense-29052020-162541\n",
      "Fruits-1-conv-128-nodes-1-dense-29052020-162541\n",
      "Fruits-2-conv-128-nodes-1-dense-29052020-162541\n",
      "Fruits-3-conv-128-nodes-1-dense-29052020-162541\n",
      "Fruits-1-conv-32-nodes-2-dense-29052020-162541\n",
      "Fruits-2-conv-32-nodes-2-dense-29052020-162541\n",
      "Fruits-3-conv-32-nodes-2-dense-29052020-162541\n",
      "Fruits-1-conv-64-nodes-2-dense-29052020-162541\n",
      "Fruits-2-conv-64-nodes-2-dense-29052020-162541\n",
      "Fruits-3-conv-64-nodes-2-dense-29052020-162541\n",
      "Fruits-1-conv-128-nodes-2-dense-29052020-162541\n",
      "Fruits-2-conv-128-nodes-2-dense-29052020-162541\n",
      "Fruits-3-conv-128-nodes-2-dense-29052020-162541\n"
     ]
    }
   ],
   "source": [
    "dense_layers = [0, 1, 2]\n",
    "layer_sizes = [32, 64, 128]\n",
    "conv_layers = [1, 2, 3]\n",
    "\n",
    "for dense_layer in dense_layers:\n",
    "    for layer_size in layer_sizes:\n",
    "        for conv_layer in conv_layers:\n",
    "            NAME = \"Fruits-{}-conv-{}-nodes-{}-dense-{}\".format(conv_layer, layer_size, dense_layer, datetime.now().strftime(\"%d%m%Y-%H%M%S\"))\n",
    "            print(NAME)"
   ]
  },
  {
   "cell_type": "code",
   "execution_count": 22,
   "metadata": {},
   "outputs": [
    {
     "ename": "TypeError",
     "evalue": "'History' object is not subscriptable",
     "output_type": "error",
     "traceback": [
      "\u001b[1;31m---------------------------------------------------------------------------\u001b[0m",
      "\u001b[1;31mTypeError\u001b[0m                                 Traceback (most recent call last)",
      "\u001b[1;32m<ipython-input-22-b4f2833c0701>\u001b[0m in \u001b[0;36m<module>\u001b[1;34m\u001b[0m\n\u001b[1;32m----> 1\u001b[1;33m \u001b[0mprint\u001b[0m\u001b[1;33m(\u001b[0m\u001b[1;34m\"Average test loss: \"\u001b[0m\u001b[1;33m,\u001b[0m \u001b[0mnp\u001b[0m\u001b[1;33m.\u001b[0m\u001b[0maverage\u001b[0m\u001b[1;33m(\u001b[0m\u001b[0mmodel\u001b[0m\u001b[1;33m.\u001b[0m\u001b[0mhistory\u001b[0m\u001b[1;33m[\u001b[0m\u001b[1;34m'loss'\u001b[0m\u001b[1;33m]\u001b[0m\u001b[1;33m)\u001b[0m\u001b[1;33m)\u001b[0m\u001b[1;33m\u001b[0m\u001b[1;33m\u001b[0m\u001b[0m\n\u001b[0m",
      "\u001b[1;31mTypeError\u001b[0m: 'History' object is not subscriptable"
     ]
    }
   ],
   "source": [
    "print(\"Average test loss: \", np.average(model.history['loss']))"
   ]
  },
  {
   "cell_type": "code",
   "execution_count": 81,
   "metadata": {},
   "outputs": [
    {
     "data": {
      "text/plain": [
       "8734"
      ]
     },
     "execution_count": 81,
     "metadata": {},
     "output_type": "execute_result"
    }
   ],
   "source": [
    "len(test_data)"
   ]
  },
  {
   "cell_type": "code",
   "execution_count": 82,
   "metadata": {},
   "outputs": [
    {
     "data": {
      "text/plain": [
       "26105"
      ]
     },
     "execution_count": 82,
     "metadata": {},
     "output_type": "execute_result"
    }
   ],
   "source": [
    "len(training_data)"
   ]
  },
  {
   "cell_type": "code",
   "execution_count": 89,
   "metadata": {},
   "outputs": [
    {
     "data": {
      "text/plain": [
       "(78315, 32, 32, 1)"
      ]
     },
     "execution_count": 89,
     "metadata": {},
     "output_type": "execute_result"
    }
   ],
   "source": [
    "X.shape"
   ]
  },
  {
   "cell_type": "code",
   "execution_count": 84,
   "metadata": {},
   "outputs": [
    {
     "data": {
      "text/plain": [
       "(8734, 32, 32, 1)"
      ]
     },
     "execution_count": 84,
     "metadata": {},
     "output_type": "execute_result"
    }
   ],
   "source": [
    "X_test.shape"
   ]
  },
  {
   "cell_type": "code",
   "execution_count": 88,
   "metadata": {},
   "outputs": [
    {
     "data": {
      "text/plain": [
       "(26105,)"
      ]
     },
     "execution_count": 88,
     "metadata": {},
     "output_type": "execute_result"
    }
   ],
   "source": [
    "y.shape"
   ]
  },
  {
   "cell_type": "code",
   "execution_count": 86,
   "metadata": {},
   "outputs": [
    {
     "data": {
      "text/plain": [
       "(8734,)"
      ]
     },
     "execution_count": 86,
     "metadata": {},
     "output_type": "execute_result"
    }
   ],
   "source": [
    "y_test.shape"
   ]
  },
  {
   "cell_type": "code",
   "execution_count": null,
   "metadata": {},
   "outputs": [],
   "source": []
  }
 ],
 "metadata": {
  "kernelspec": {
   "display_name": "Python 3",
   "language": "python",
   "name": "python3"
  },
  "language_info": {
   "codemirror_mode": {
    "name": "ipython",
    "version": 3
   },
   "file_extension": ".py",
   "mimetype": "text/x-python",
   "name": "python",
   "nbconvert_exporter": "python",
   "pygments_lexer": "ipython3",
   "version": "3.7.4"
  }
 },
 "nbformat": 4,
 "nbformat_minor": 2
}
