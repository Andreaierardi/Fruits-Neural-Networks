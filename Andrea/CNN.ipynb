{
 "cells": [
  {
   "cell_type": "code",
   "execution_count": 9,
   "metadata": {},
   "outputs": [],
   "source": [
    "import tensorflow as tf\n",
    "import numpy as np\n",
    "import matplotlib.pyplot as plt\n",
    "import os\n",
    "import cv2\n",
    "from tqdm import tqdm\n",
    "import random\n",
    "import pandas as pd "
   ]
  },
  {
   "cell_type": "code",
   "execution_count": 10,
   "metadata": {},
   "outputs": [],
   "source": [
    "from sklearn.datasets import load_files\n",
    "import numpy as np\n",
    "DATADIR = \"../dataset/fruits-360/Training\"\n",
    "DATADIR_test = \"../dataset/fruits-360/Test\"\n",
    "\n",
    "CATEGORIES = [\"Apple Braeburn\",\"Apple Crimson Snow\",\"Apple Golden 1\",\"Apple Golden 2\",\"Apple Golden 3\",\n",
    "              \"Apple Granny Smith\",\"Apple Pink Lady\",\"Apple Red 1\", \"Apple Red 2\",\"Apple Red 3\",\"Apple Red Delicious\",\n",
    "              \"Apple Red Yellow 1\",\"Apple Red Yellow 2\",\"Banana\",\n",
    "              \"Plum\",\"Plum 2\", \"Plum 3\",\n",
    "             \"Pepper Yellow\",\"Pepper Red\",\"Pepper Green\",\n",
    "              \"Cherry 1\", \"Cherry 2\", \"Cherry Rainier\", \"Cherry Wax Black\", \"Cherry Wax Red\",\"Cherry Wax Yellow\",\n",
    "              \"Grape Blue\", \"Grape Pink\", \"Grape White\", \"Grape White 2\", \"Grape White 3\", \"Grape White 4\",\n",
    "            \"Tomato 1\",\"Tomato 2\",\"Tomato 3\",\"Tomato 4\",\"Tomato Yellow\",\"Tomato Maroon\",\n",
    "            \"Pear\",\"Pear Abate\",\"Pear Forelle\",\"Pear Kaiser\",\"Pear Monster\",\"Pear Red\",\"Pear Williams\",\n",
    "             \"Peach\",\"Peach 2\",\"Peach Flat\",\n",
    "             \"Potato Red\", \"Potato Red Washed\",\"Potato White\",\"Potato Sweet\"\n",
    "             ]\n",
    "\n",
    "##TYPES = [\"Apple\", \"Banana\", \"Plum\", \"Pepper\", \"Cherry\", \"Grape\", \"Tomato\", \"Potato\", \"Pear\", \"Peach\"]\n",
    "TYPES = [\"Apple\", \"Banana\", \"Plum\", \"Pepper\", \"Cherry\", \"Grape\", \"Tomato\", \"Potato\", \"Pear\", \"Peach\"]\n",
    "fruits= {}\n",
    "for cat in CATEGORIES:\n",
    "    for typ in TYPES:\n",
    "        if(cat.startswith(typ)):\n",
    "            fruits[cat] = typ\n"
   ]
  },
  {
   "cell_type": "code",
   "execution_count": 11,
   "metadata": {},
   "outputs": [
    {
     "name": "stderr",
     "output_type": "stream",
     "text": [
      "100%|████████████████████████████████████| 492/492 [00:00<00:00, 246546.90it/s]\n",
      "100%|████████████████████████████████████| 444/444 [00:00<00:00, 457560.44it/s]\n",
      "100%|████████████████████████████████████| 480/480 [00:00<00:00, 480149.28it/s]\n",
      "100%|████████████████████████████████████| 492/492 [00:00<00:00, 244647.01it/s]\n",
      "100%|████████████████████████████████████| 481/481 [00:00<00:00, 241669.89it/s]\n",
      "100%|████████████████████████████████████| 492/492 [00:00<00:00, 248267.27it/s]\n",
      "100%|████████████████████████████████████| 456/456 [00:00<00:00, 227745.01it/s]\n",
      "100%|████████████████████████████████████| 492/492 [00:00<00:00, 246135.21it/s]\n",
      "100%|████████████████████████████████████| 492/492 [00:00<00:00, 246105.85it/s]\n",
      "100%|████████████████████████████████████| 429/429 [00:00<00:00, 214617.89it/s]\n",
      "100%|████████████████████████████████████| 490/490 [00:00<00:00, 246191.78it/s]\n",
      "100%|████████████████████████████████████| 492/492 [00:00<00:00, 492035.66it/s]\n",
      "100%|████████████████████████████████████| 672/672 [00:00<00:00, 224051.85it/s]\n",
      "100%|████████████████████████████████████| 490/490 [00:00<00:00, 489918.70it/s]\n",
      "100%|████████████████████████████████████| 447/447 [00:00<00:00, 447352.40it/s]\n",
      "100%|████████████████████████████████████| 420/420 [00:00<00:00, 419930.32it/s]\n",
      "100%|████████████████████████████████████| 900/900 [00:00<00:00, 300141.02it/s]\n",
      "100%|████████████████████████████████████| 666/666 [00:00<00:00, 222104.35it/s]\n",
      "100%|████████████████████████████████████| 666/666 [00:00<00:00, 222033.74it/s]\n",
      "100%|████████████████████████████████████| 444/444 [00:00<00:00, 444350.03it/s]\n",
      "100%|████████████████████████████████████| 492/492 [00:00<00:00, 492387.87it/s]\n",
      "100%|████████████████████████████████████| 738/738 [00:00<00:00, 246115.64it/s]\n",
      "100%|████████████████████████████████████| 738/738 [00:00<00:00, 246076.50it/s]\n",
      "100%|████████████████████████████████████| 492/492 [00:00<00:00, 492153.01it/s]\n",
      "100%|████████████████████████████████████| 492/492 [00:00<00:00, 492153.01it/s]\n",
      "100%|████████████████████████████████████| 492/492 [00:00<00:00, 492270.41it/s]\n",
      "100%|████████████████████████████████████| 984/984 [00:00<00:00, 328102.01it/s]\n",
      "100%|████████████████████████████████████| 492/492 [00:00<00:00, 246105.85it/s]\n",
      "100%|████████████████████████████████████| 490/490 [00:00<00:00, 245134.66it/s]\n",
      "100%|████████████████████████████████████| 490/490 [00:00<00:00, 245105.42it/s]\n",
      "100%|████████████████████████████████████| 492/492 [00:00<00:00, 246047.16it/s]\n",
      "100%|████████████████████████████████████| 471/471 [00:00<00:00, 235573.24it/s]\n",
      "100%|████████████████████████████████████| 738/738 [00:00<00:00, 246154.78it/s]\n",
      "100%|████████████████████████████████████| 672/672 [00:00<00:00, 336224.77it/s]\n",
      "100%|████████████████████████████████████| 738/738 [00:00<00:00, 246135.21it/s]\n",
      "100%|████████████████████████████████████| 479/479 [00:00<00:00, 159716.32it/s]\n",
      "100%|████████████████████████████████████| 459/459 [00:00<00:00, 459142.75it/s]\n",
      "100%|████████████████████████████████████| 367/367 [00:00<00:00, 183557.07it/s]\n",
      "100%|████████████████████████████████████| 492/492 [00:00<00:00, 245959.19it/s]\n",
      "100%|████████████████████████████████████| 490/490 [00:00<00:00, 490386.29it/s]\n",
      "100%|████████████████████████████████████| 702/702 [00:00<00:00, 234054.17it/s]\n",
      "100%|████████████████████████████████████| 300/300 [00:00<00:00, 300308.16it/s]\n",
      "100%|████████████████████████████████████| 490/490 [00:00<00:00, 490269.31it/s]\n",
      "100%|████████████████████████████████████| 666/666 [00:00<00:00, 222069.04it/s]\n",
      "100%|████████████████████████████████████| 490/490 [00:00<00:00, 490152.39it/s]\n",
      "100%|████████████████████████████████████| 492/492 [00:00<00:00, 492153.01it/s]\n",
      "100%|████████████████████████████████████| 738/738 [00:00<00:00, 246135.21it/s]\n",
      "100%|████████████████████████████████████| 492/492 [00:00<00:00, 492035.66it/s]\n",
      "100%|████████████████████████████████████| 450/450 [00:00<00:00, 225096.82it/s]\n",
      "100%|████████████████████████████████████| 453/453 [00:00<00:00, 226543.43it/s]\n",
      "100%|████████████████████████████████████| 450/450 [00:00<00:00, 225096.82it/s]\n",
      "100%|████████████████████████████████████| 450/450 [00:00<00:00, 449925.34it/s]\n",
      "100%|████████████████████████████████████| 164/164 [00:00<00:00, 164090.14it/s]\n",
      "100%|████████████████████████████████████████████████| 148/148 [00:00<?, ?it/s]\n",
      "100%|████████████████████████████████████████████████| 160/160 [00:00<?, ?it/s]\n",
      "100%|████████████████████████████████████████████████| 164/164 [00:00<?, ?it/s]\n",
      "100%|████████████████████████████████████| 161/161 [00:00<00:00, 161050.07it/s]\n",
      "100%|████████████████████████████████████████████████| 164/164 [00:00<?, ?it/s]\n",
      "100%|████████████████████████████████████| 152/152 [00:00<00:00, 151974.78it/s]\n",
      "100%|████████████████████████████████████████████████| 164/164 [00:00<?, ?it/s]\n",
      "100%|████████████████████████████████████| 164/164 [00:00<00:00, 164051.00it/s]\n",
      "100%|████████████████████████████████████| 144/144 [00:00<00:00, 144079.15it/s]\n",
      "100%|████████████████████████████████████| 166/166 [00:00<00:00, 166130.87it/s]\n",
      "100%|████████████████████████████████████████████████| 164/164 [00:00<?, ?it/s]\n",
      "100%|████████████████████████████████████| 219/219 [00:00<00:00, 219068.11it/s]\n",
      "100%|████████████████████████████████████| 166/166 [00:00<00:00, 166091.24it/s]\n",
      "100%|████████████████████████████████████| 151/151 [00:00<00:00, 151119.04it/s]\n",
      "100%|████████████████████████████████████| 142/142 [00:00<00:00, 142111.95it/s]\n",
      "100%|████████████████████████████████████| 304/304 [00:00<00:00, 304167.08it/s]\n",
      "100%|████████████████████████████████████| 222/222 [00:00<00:00, 222016.09it/s]\n",
      "100%|████████████████████████████████████| 222/222 [00:00<00:00, 222016.09it/s]\n",
      "100%|████████████████████████████████████| 148/148 [00:00<00:00, 148116.68it/s]\n",
      "100%|████████████████████████████████████| 164/164 [00:00<00:00, 164090.14it/s]\n",
      "100%|████████████████████████████████████| 246/246 [00:00<00:00, 246429.13it/s]\n",
      "100%|████████████████████████████████████| 246/246 [00:00<00:00, 245900.57it/s]\n",
      "100%|████████████████████████████████████████████████| 164/164 [00:00<?, ?it/s]\n",
      "100%|████████████████████████████████████| 164/164 [00:00<00:00, 164011.89it/s]\n",
      "100%|████████████████████████████████████████████████| 164/164 [00:00<?, ?it/s]\n",
      "100%|████████████████████████████████████| 328/328 [00:00<00:00, 328023.77it/s]\n",
      "100%|████████████████████████████████████████████████| 164/164 [00:00<?, ?it/s]\n",
      "100%|████████████████████████████████████████████████| 166/166 [00:00<?, ?it/s]\n",
      "100%|████████████████████████████████████| 166/166 [00:00<00:00, 166091.24it/s]\n",
      "100%|████████████████████████████████████| 164/164 [00:00<00:00, 164129.29it/s]\n",
      "100%|████████████████████████████████████████████████| 158/158 [00:00<?, ?it/s]\n",
      "100%|████████████████████████████████████| 246/246 [00:00<00:00, 246076.50it/s]\n",
      "100%|████████████████████████████████████| 225/225 [00:00<00:00, 225177.38it/s]\n",
      "100%|████████████████████████████████████| 246/246 [00:00<00:00, 246017.83it/s]\n",
      "100%|████████████████████████████████████| 160/160 [00:00<00:00, 160164.35it/s]\n",
      "100%|████████████████████████████████████| 153/153 [00:00<00:00, 153011.09it/s]\n",
      "100%|████████████████████████████████████████████████| 127/127 [00:00<?, ?it/s]\n",
      "100%|████████████████████████████████████████████████| 164/164 [00:00<?, ?it/s]\n",
      "100%|████████████████████████████████████| 166/166 [00:00<00:00, 166170.52it/s]\n",
      "100%|████████████████████████████████████| 234/234 [00:00<00:00, 234072.77it/s]\n",
      "100%|████████████████████████████████████████████████| 102/102 [00:00<?, ?it/s]\n",
      "100%|████████████████████████████████████████████████| 166/166 [00:00<?, ?it/s]\n",
      "100%|████████████████████████████████████| 222/222 [00:00<00:00, 222122.02it/s]\n",
      "100%|████████████████████████████████████| 166/166 [00:00<00:00, 166091.24it/s]\n",
      "100%|████████████████████████████████████| 164/164 [00:00<00:00, 164090.14it/s]\n",
      "100%|████████████████████████████████████| 246/246 [00:00<00:00, 245959.19it/s]\n",
      "100%|████████████████████████████████████| 164/164 [00:00<00:00, 163933.71it/s]\n",
      "100%|████████████████████████████████████| 150/150 [00:00<00:00, 150154.08it/s]\n",
      "100%|████████████████████████████████████| 151/151 [00:00<00:00, 151010.95it/s]\n"
     ]
    },
    {
     "name": "stderr",
     "output_type": "stream",
     "text": [
      "100%|████████████████████████████████████| 150/150 [00:00<00:00, 150118.25it/s]\n",
      "100%|████████████████████████████████████████████████| 150/150 [00:00<?, ?it/s]\n"
     ]
    }
   ],
   "source": [
    "def load_dataset(dire):\n",
    "    lis_files = []\n",
    "    lis_num_lab =[]\n",
    "    lis_name_lab = []\n",
    "    for category in CATEGORIES:\n",
    "        path = os.path.join(dire,category)\n",
    "        class_num =TYPES.index(fruits[category])\n",
    "\n",
    "        class_name = fruits[category]\n",
    "        for img in tqdm(os.listdir(path)):\n",
    "               # print(\"OK: \",os.path.join(path,img) )\n",
    "                lis_files.append(os.path.join(path,img))\n",
    "                lis_name_lab.append(class_name)\n",
    "                lis_num_lab.append(class_num)\n",
    "                #print(\"path:  \",os.path.join(path,img),\" \\n Name: \",class_name,\" \\n Id: \",class_num)\n",
    "\n",
    "    return pd.DataFrame(list(zip(lis_files,lis_num_lab,lis_name_lab)),columns=('path','label_id',\"label_name\"))\n",
    "\n",
    "all_train = load_dataset(DATADIR)\n",
    "all_test = load_dataset(DATADIR_test)\n",
    "#x_train, y_train,target_labels = load_dataset(DATADIR)\n",
    "#x_test, y_test,_ = load_dataset(DATADIR_test)\n",
    "#print('Loading complete!')\n",
    "\n",
    "#print('Training set size : ' , x_train.shape[0])\n",
    "#print('Testing set size : ', x_test.shape[0])"
   ]
  },
  {
   "cell_type": "code",
   "execution_count": 12,
   "metadata": {},
   "outputs": [
    {
     "data": {
      "text/html": [
       "<div>\n",
       "<style scoped>\n",
       "    .dataframe tbody tr th:only-of-type {\n",
       "        vertical-align: middle;\n",
       "    }\n",
       "\n",
       "    .dataframe tbody tr th {\n",
       "        vertical-align: top;\n",
       "    }\n",
       "\n",
       "    .dataframe thead th {\n",
       "        text-align: right;\n",
       "    }\n",
       "</style>\n",
       "<table border=\"1\" class=\"dataframe\">\n",
       "  <thead>\n",
       "    <tr style=\"text-align: right;\">\n",
       "      <th></th>\n",
       "      <th>label_id</th>\n",
       "      <th>path</th>\n",
       "      <th>label_name</th>\n",
       "    </tr>\n",
       "  </thead>\n",
       "  <tbody>\n",
       "    <tr>\n",
       "      <td>0</td>\n",
       "      <td>5</td>\n",
       "      <td>../dataset/fruits-360/Training\\Grape Blue\\339_...</td>\n",
       "      <td>Grape</td>\n",
       "    </tr>\n",
       "    <tr>\n",
       "      <td>1</td>\n",
       "      <td>0</td>\n",
       "      <td>../dataset/fruits-360/Training\\Apple Red 1\\r_2...</td>\n",
       "      <td>Apple</td>\n",
       "    </tr>\n",
       "    <tr>\n",
       "      <td>2</td>\n",
       "      <td>8</td>\n",
       "      <td>../dataset/fruits-360/Training\\Pear Williams\\1...</td>\n",
       "      <td>Pear</td>\n",
       "    </tr>\n",
       "    <tr>\n",
       "      <td>3</td>\n",
       "      <td>2</td>\n",
       "      <td>../dataset/fruits-360/Training\\Plum 2\\207_100.jpg</td>\n",
       "      <td>Plum</td>\n",
       "    </tr>\n",
       "    <tr>\n",
       "      <td>4</td>\n",
       "      <td>3</td>\n",
       "      <td>../dataset/fruits-360/Training\\Pepper Yellow\\2...</td>\n",
       "      <td>Pepper</td>\n",
       "    </tr>\n",
       "    <tr>\n",
       "      <td>...</td>\n",
       "      <td>...</td>\n",
       "      <td>...</td>\n",
       "      <td>...</td>\n",
       "    </tr>\n",
       "    <tr>\n",
       "      <td>27903</td>\n",
       "      <td>6</td>\n",
       "      <td>../dataset/fruits-360/Training\\Tomato Maroon\\1...</td>\n",
       "      <td>Tomato</td>\n",
       "    </tr>\n",
       "    <tr>\n",
       "      <td>27904</td>\n",
       "      <td>0</td>\n",
       "      <td>../dataset/fruits-360/Training\\Apple Golden 3\\...</td>\n",
       "      <td>Apple</td>\n",
       "    </tr>\n",
       "    <tr>\n",
       "      <td>27905</td>\n",
       "      <td>7</td>\n",
       "      <td>../dataset/fruits-360/Training\\Potato Sweet\\r2...</td>\n",
       "      <td>Potato</td>\n",
       "    </tr>\n",
       "    <tr>\n",
       "      <td>27906</td>\n",
       "      <td>4</td>\n",
       "      <td>../dataset/fruits-360/Training\\Cherry Rainier\\...</td>\n",
       "      <td>Cherry</td>\n",
       "    </tr>\n",
       "    <tr>\n",
       "      <td>27907</td>\n",
       "      <td>9</td>\n",
       "      <td>../dataset/fruits-360/Training\\Peach 2\\r_176_1...</td>\n",
       "      <td>Peach</td>\n",
       "    </tr>\n",
       "  </tbody>\n",
       "</table>\n",
       "<p>27908 rows × 3 columns</p>\n",
       "</div>"
      ],
      "text/plain": [
       "       label_id                                               path label_name\n",
       "0             5  ../dataset/fruits-360/Training\\Grape Blue\\339_...      Grape\n",
       "1             0  ../dataset/fruits-360/Training\\Apple Red 1\\r_2...      Apple\n",
       "2             8  ../dataset/fruits-360/Training\\Pear Williams\\1...       Pear\n",
       "3             2  ../dataset/fruits-360/Training\\Plum 2\\207_100.jpg       Plum\n",
       "4             3  ../dataset/fruits-360/Training\\Pepper Yellow\\2...     Pepper\n",
       "...         ...                                                ...        ...\n",
       "27903         6  ../dataset/fruits-360/Training\\Tomato Maroon\\1...     Tomato\n",
       "27904         0  ../dataset/fruits-360/Training\\Apple Golden 3\\...      Apple\n",
       "27905         7  ../dataset/fruits-360/Training\\Potato Sweet\\r2...     Potato\n",
       "27906         4  ../dataset/fruits-360/Training\\Cherry Rainier\\...     Cherry\n",
       "27907         9  ../dataset/fruits-360/Training\\Peach 2\\r_176_1...      Peach\n",
       "\n",
       "[27908 rows x 3 columns]"
      ]
     },
     "execution_count": 12,
     "metadata": {},
     "output_type": "execute_result"
    }
   ],
   "source": [
    "all_train.sample(frac=1, axis=1).sample(frac=1).reset_index(drop=True)"
   ]
  },
  {
   "cell_type": "code",
   "execution_count": 13,
   "metadata": {},
   "outputs": [],
   "source": [
    "all_train = all_train.sample(frac=1, axis=1).sample(frac=1).reset_index(drop=True)\n",
    "all_test = all_test.sample(frac=1, axis=1).sample(frac=1).reset_index(drop=True)\n",
    "\n",
    "x_train = np.array(all_train[\"path\"])\n",
    "y_train = np.array(all_train[\"label_id\"])\n",
    "target_labels= np.array(all_train[\"label_name\"])\n",
    "\n",
    "x_test = np.array(all_test[\"path\"])\n",
    "y_test = np.array(all_test[\"label_id\"])\n"
   ]
  },
  {
   "cell_type": "code",
   "execution_count": 14,
   "metadata": {},
   "outputs": [],
   "source": [
    "#def load_dataset(path):\n",
    "#    data = load_files(path)\n",
    "#    files = np.array(data['filenames'])\n",
    "#    print(files)\n",
    "#    targets = np.array(data['target'])\n",
    "#    print(targets)\n",
    "#    target_labels = np.array(data['target_names'])\n",
    "#    print(target_labels)\n",
    "#    return files,targets,target_labels\n",
    "    \n",
    "#x_train, y_train,target_labels = load_dataset(DATADIR)\n",
    "#x_test, y_test,_ = load_dataset(DATADIR_test)\n",
    "#print('Loading complete!')\n",
    "\n",
    "#print('Training set size : ' , x_train.shape[0])\n",
    "#print('Testing set size : ', x_test.shape[0])"
   ]
  },
  {
   "cell_type": "code",
   "execution_count": 15,
   "metadata": {},
   "outputs": [
    {
     "data": {
      "text/plain": [
       "array(['../dataset/fruits-360/Training\\\\Pear\\\\274_100.jpg',\n",
       "       '../dataset/fruits-360/Training\\\\Tomato 1\\\\279_100.jpg',\n",
       "       '../dataset/fruits-360/Training\\\\Grape White 2\\\\231_100.jpg', ...,\n",
       "       '../dataset/fruits-360/Training\\\\Tomato Yellow\\\\r2_115_100.jpg',\n",
       "       '../dataset/fruits-360/Training\\\\Apple Red 2\\\\r_163_100.jpg',\n",
       "       '../dataset/fruits-360/Training\\\\Pear Red\\\\r2_72_100.jpg'],\n",
       "      dtype=object)"
      ]
     },
     "execution_count": 15,
     "metadata": {},
     "output_type": "execute_result"
    }
   ],
   "source": [
    "x_train"
   ]
  },
  {
   "cell_type": "code",
   "execution_count": 16,
   "metadata": {},
   "outputs": [
    {
     "data": {
      "text/plain": [
       "array(['Pear', 'Tomato', 'Grape', ..., 'Tomato', 'Apple', 'Pear'],\n",
       "      dtype=object)"
      ]
     },
     "execution_count": 16,
     "metadata": {},
     "output_type": "execute_result"
    }
   ],
   "source": [
    "target_labels"
   ]
  },
  {
   "cell_type": "code",
   "execution_count": 17,
   "metadata": {},
   "outputs": [
    {
     "data": {
      "text/plain": [
       "array([8, 6, 5, ..., 6, 0, 8], dtype=int64)"
      ]
     },
     "execution_count": 17,
     "metadata": {},
     "output_type": "execute_result"
    }
   ],
   "source": [
    "y_train    "
   ]
  },
  {
   "cell_type": "code",
   "execution_count": 18,
   "metadata": {},
   "outputs": [
    {
     "name": "stdout",
     "output_type": "stream",
     "text": [
      "(27908,)\n",
      "(27908,)\n",
      "(9335,)\n",
      "(9335,)\n"
     ]
    },
    {
     "data": {
      "text/plain": [
       "array([8, 6, 5, ..., 6, 0, 8], dtype=int64)"
      ]
     },
     "execution_count": 18,
     "metadata": {},
     "output_type": "execute_result"
    }
   ],
   "source": [
    "print(x_train.shape)\n",
    "print(y_train.shape)\n",
    "print(x_test.shape)\n",
    "print(y_test.shape)\n",
    "\n",
    "y_train"
   ]
  },
  {
   "cell_type": "code",
   "execution_count": 19,
   "metadata": {},
   "outputs": [
    {
     "name": "stderr",
     "output_type": "stream",
     "text": [
      "Using TensorFlow backend.\n"
     ]
    },
    {
     "name": "stdout",
     "output_type": "stream",
     "text": [
      "10\n"
     ]
    }
   ],
   "source": [
    "from keras.utils import np_utils\n",
    "no_of_classes = len(np.unique(y_train))\n",
    "y_train = np_utils.to_categorical(y_train,no_of_classes)\n",
    "y_test = np_utils.to_categorical(y_test,no_of_classes)\n",
    "y_train[0]\n",
    "print(no_of_classes)"
   ]
  },
  {
   "cell_type": "code",
   "execution_count": 20,
   "metadata": {},
   "outputs": [
    {
     "name": "stdout",
     "output_type": "stream",
     "text": [
      "Vaildation X :  (7000,)\n",
      "Vaildation y : (7000, 10)\n",
      "Test X :  (2335,)\n",
      "Test y :  (2335, 10)\n"
     ]
    }
   ],
   "source": [
    "\n",
    "\n",
    "# Now, we have to divide the validation set into test and validation set\n",
    "x_test,x_valid = x_test[7000:],x_test[:7000]\n",
    "y_test,y_vaild = y_test[7000:],y_test[:7000]\n",
    "print('Vaildation X : ',x_valid.shape)\n",
    "print('Vaildation y :',y_vaild.shape)\n",
    "print('Test X : ',x_test.shape)\n",
    "print('Test y : ',y_test.shape)\n",
    "\n"
   ]
  },
  {
   "cell_type": "code",
   "execution_count": null,
   "metadata": {},
   "outputs": [],
   "source": []
  },
  {
   "cell_type": "code",
   "execution_count": 21,
   "metadata": {},
   "outputs": [
    {
     "name": "stdout",
     "output_type": "stream",
     "text": [
      "Training set shape :  (27908, 32, 32, 3)\n",
      "Validation set shape :  (7000, 32, 32, 3)\n",
      "Test set shape :  (2335, 32, 32, 3)\n",
      "1st training image shape  (32, 32, 3)\n"
     ]
    }
   ],
   "source": [
    "from keras.preprocessing.image import array_to_img, img_to_array, load_img\n",
    "\n",
    "def convert_image_to_array(files):\n",
    "    images_as_array=[]\n",
    "    for file in files:\n",
    "        # Convert to Numpy Array\n",
    "        images_as_array.append(img_to_array(load_img(file,target_size=(32, 32))))\n",
    "    return images_as_array\n",
    "\n",
    "x_train = np.array(convert_image_to_array(x_train))\n",
    "print('Training set shape : ',x_train.shape)\n",
    "\n",
    "x_valid = np.array(convert_image_to_array(x_valid))\n",
    "print('Validation set shape : ',x_valid.shape)\n",
    "\n",
    "x_test = np.array(convert_image_to_array(x_test))\n",
    "print('Test set shape : ',x_test.shape)\n",
    "\n",
    "print('1st training image shape ',x_train[0].shape)\n"
   ]
  },
  {
   "cell_type": "code",
   "execution_count": 22,
   "metadata": {},
   "outputs": [],
   "source": [
    "x_train = x_train.astype('float32')/255\n",
    "x_valid = x_valid.astype('float32')/255\n",
    "x_test = x_test.astype('float32')/255"
   ]
  },
  {
   "cell_type": "code",
   "execution_count": 23,
   "metadata": {},
   "outputs": [
    {
     "data": {
      "image/png": "[encoded data removed]",
      "text/plain": [
       "<Figure size 2160x360 with 10 Axes>"
      ]
     },
     "metadata": {},
     "output_type": "display_data"
    }
   ],
   "source": [
    "import matplotlib.pyplot as plt\n",
    "\n",
    "fig = plt.figure(figsize =(30,5))\n",
    "for i in range(10):\n",
    "    ax = fig.add_subplot(2,5,i+1,xticks=[],yticks=[])\n",
    "    ax.imshow(np.squeeze(x_train[i]))"
   ]
  },
  {
   "cell_type": "code",
   "execution_count": 24,
   "metadata": {},
   "outputs": [
    {
     "name": "stdout",
     "output_type": "stream",
     "text": [
      "Model: \"sequential_1\"\n",
      "_________________________________________________________________\n",
      "Layer (type)                 Output Shape              Param #   \n",
      "=================================================================\n",
      "conv2d_1 (Conv2D)            (None, 32, 32, 16)        208       \n",
      "_________________________________________________________________\n",
      "activation_1 (Activation)    (None, 32, 32, 16)        0         \n",
      "_________________________________________________________________\n",
      "max_pooling2d_1 (MaxPooling2 (None, 16, 16, 16)        0         \n",
      "_________________________________________________________________\n",
      "conv2d_2 (Conv2D)            (None, 16, 16, 32)        2080      \n",
      "_________________________________________________________________\n",
      "max_pooling2d_2 (MaxPooling2 (None, 8, 8, 32)          0         \n",
      "_________________________________________________________________\n",
      "conv2d_3 (Conv2D)            (None, 8, 8, 64)          8256      \n",
      "_________________________________________________________________\n",
      "max_pooling2d_3 (MaxPooling2 (None, 4, 4, 64)          0         \n",
      "_________________________________________________________________\n",
      "conv2d_4 (Conv2D)            (None, 4, 4, 128)         32896     \n",
      "_________________________________________________________________\n",
      "max_pooling2d_4 (MaxPooling2 (None, 2, 2, 128)         0         \n",
      "_________________________________________________________________\n",
      "dropout_1 (Dropout)          (None, 2, 2, 128)         0         \n",
      "_________________________________________________________________\n",
      "flatten_1 (Flatten)          (None, 512)               0         \n",
      "_________________________________________________________________\n",
      "dense_1 (Dense)              (None, 150)               76950     \n",
      "_________________________________________________________________\n",
      "activation_2 (Activation)    (None, 150)               0         \n",
      "_________________________________________________________________\n",
      "dropout_2 (Dropout)          (None, 150)               0         \n",
      "_________________________________________________________________\n",
      "dense_2 (Dense)              (None, 10)                1510      \n",
      "=================================================================\n",
      "Total params: 121,900\n",
      "Trainable params: 121,900\n",
      "Non-trainable params: 0\n",
      "_________________________________________________________________\n"
     ]
    }
   ],
   "source": [
    "#Simple CNN from scratch - we are using 3 Conv layers followed by maxpooling layers.\n",
    "# At the end we add dropout, flatten and some fully connected layers(Dense).\n",
    "\n",
    "from keras.models import Sequential\n",
    "from keras.layers import Conv2D,MaxPooling2D\n",
    "from keras.layers import Activation, Dense, Flatten, Dropout\n",
    "from keras.preprocessing.image import ImageDataGenerator\n",
    "from keras.callbacks import ModelCheckpoint\n",
    "from keras import backend as K\n",
    "\n",
    "model = Sequential()\n",
    "model.add(Conv2D(filters = 16, kernel_size = 2,input_shape=(32,32,3),padding='same'))\n",
    "model.add(Activation('relu'))\n",
    "model.add(MaxPooling2D(pool_size=2))\n",
    "\n",
    "model.add(Conv2D(filters = 32,kernel_size = 2,activation= 'relu',padding='same'))\n",
    "model.add(MaxPooling2D(pool_size=2))\n",
    "\n",
    "model.add(Conv2D(filters = 64,kernel_size = 2,activation= 'relu',padding='same'))\n",
    "model.add(MaxPooling2D(pool_size=2))\n",
    "\n",
    "model.add(Conv2D(filters = 128,kernel_size = 2,activation= 'relu',padding='same'))\n",
    "model.add(MaxPooling2D(pool_size=2))\n",
    "\n",
    "model.add(Dropout(0.3))\n",
    "model.add(Flatten())\n",
    "model.add(Dense(150))\n",
    "model.add(Activation('relu'))\n",
    "model.add(Dropout(0.4))\n",
    "model.add(Dense(10,activation = 'softmax'))\n",
    "model.summary()"
   ]
  },
  {
   "cell_type": "code",
   "execution_count": 25,
   "metadata": {},
   "outputs": [
    {
     "name": "stdout",
     "output_type": "stream",
     "text": [
      "Compiled!\n"
     ]
    }
   ],
   "source": [
    "model.compile(loss='categorical_crossentropy',\n",
    "              optimizer='rmsprop',\n",
    "              metrics=['accuracy'])\n",
    "print('Compiled!')"
   ]
  },
  {
   "cell_type": "code",
   "execution_count": 26,
   "metadata": {},
   "outputs": [
    {
     "name": "stdout",
     "output_type": "stream",
     "text": [
      "Train on 27908 samples, validate on 7000 samples\n",
      "Epoch 1/10\n",
      " - 14s - loss: 0.7360 - accuracy: 0.7439 - val_loss: 0.2250 - val_accuracy: 0.9191\n",
      "Epoch 2/10\n",
      " - 14s - loss: 0.1088 - accuracy: 0.9638 - val_loss: 0.0432 - val_accuracy: 0.9839\n",
      "Epoch 3/10\n",
      " - 15s - loss: 0.0478 - accuracy: 0.9836 - val_loss: 0.0615 - val_accuracy: 0.9730\n",
      "Epoch 4/10\n",
      " - 14s - loss: 0.0332 - accuracy: 0.9890 - val_loss: 0.0948 - val_accuracy: 0.9740\n",
      "Epoch 5/10\n",
      " - 15s - loss: 0.0222 - accuracy: 0.9927 - val_loss: 0.0873 - val_accuracy: 0.9707\n",
      "Epoch 6/10\n",
      " - 14s - loss: 0.0176 - accuracy: 0.9944 - val_loss: 0.0296 - val_accuracy: 0.9906\n",
      "Epoch 7/10\n",
      " - 12s - loss: 0.0196 - accuracy: 0.9939 - val_loss: 0.0511 - val_accuracy: 0.9881\n",
      "Epoch 8/10\n",
      " - 12s - loss: 0.0143 - accuracy: 0.9954 - val_loss: 0.0276 - val_accuracy: 0.9913\n",
      "Epoch 9/10\n",
      " - 12s - loss: 0.0147 - accuracy: 0.9958 - val_loss: 0.0435 - val_accuracy: 0.9879\n",
      "Epoch 10/10\n",
      " - 13s - loss: 0.0144 - accuracy: 0.9964 - val_loss: 0.0669 - val_accuracy: 0.9823\n"
     ]
    }
   ],
   "source": [
    "history = model.fit(x_train,y_train,\n",
    "        batch_size = 32,\n",
    "        epochs=10,\n",
    "        validation_data=(x_valid, y_vaild),\n",
    "        verbose=2, \n",
    "     #   shuffle=True\n",
    "                   )"
   ]
  },
  {
   "cell_type": "code",
   "execution_count": null,
   "metadata": {},
   "outputs": [],
   "source": []
  },
  {
   "cell_type": "code",
   "execution_count": 27,
   "metadata": {},
   "outputs": [
    {
     "name": "stdout",
     "output_type": "stream",
     "text": [
      "\n",
      " Test accuracy: 0.980728030204773\n"
     ]
    }
   ],
   "source": [
    "# evaluate and print test accuracy\n",
    "score = model.evaluate(x_test, y_test, verbose=0)\n",
    "print('\\n', 'Test accuracy:', score[1])"
   ]
  },
  {
   "cell_type": "code",
   "execution_count": 37,
   "metadata": {},
   "outputs": [
    {
     "data": {
      "image/png": "[encoded data removed]",
      "text/plain": [
       "<Figure size 1152x648 with 16 Axes>"
      ]
     },
     "metadata": {},
     "output_type": "display_data"
    }
   ],
   "source": [
    "y_pred = model.predict(x_test)\n",
    "\n",
    "# plot a random sample of test images, their predicted labels, and ground truth\n",
    "fig = plt.figure(figsize=(16, 9))\n",
    "for i, idx in enumerate(np.random.choice(x_test.shape[0], size=16, replace=False)):\n",
    "    ax = fig.add_subplot(4, 4, i + 1, xticks=[], yticks=[])\n",
    "    ax.imshow(np.squeeze(x_test[idx]))\n",
    "    pred_idx = np.argmax(y_pred[idx])\n",
    "    true_idx = np.argmax(y_test[idx])\n",
    "    ax.set_title(\"{} ({})\".format(TYPES[pred_idx], TYPES[true_idx]),\n",
    "                 color=(\"green\" if pred_idx == true_idx else \"red\"))"
   ]
  },
  {
   "cell_type": "code",
   "execution_count": null,
   "metadata": {},
   "outputs": [],
   "source": []
  },
  {
   "cell_type": "code",
   "execution_count": 38,
   "metadata": {},
   "outputs": [
    {
     "data": {
      "image/png": "[encoded data removed]",
      "text/plain": [
       "<Figure size 432x288 with 2 Axes>"
      ]
     },
     "metadata": {
      "needs_background": "light"
     },
     "output_type": "display_data"
    }
   ],
   "source": [
    "#Finally lets visualize the loss and accuracy wrt epochs\n",
    "\n",
    "import matplotlib.pyplot as plt \n",
    "plt.figure(1)  \n",
    "   \n",
    " # summarize history for accuracy  \n",
    "   \n",
    "plt.subplot(211)  \n",
    "plt.plot(history.history['accuracy'])  \n",
    "plt.plot(history.history['val_accuracy'])  \n",
    "plt.title('model accuracy')  \n",
    "plt.ylabel('accuracy')  \n",
    "plt.xlabel('epoch')  \n",
    "plt.legend(['train', 'test'], loc='upper left')  \n",
    "   \n",
    " # summarize history for loss  \n",
    "   \n",
    "plt.subplot(212)  \n",
    "plt.plot(history.history['loss'])  \n",
    "plt.plot(history.history['val_loss'])  \n",
    "plt.title('model loss')  \n",
    "plt.ylabel('loss')  \n",
    "plt.xlabel('epoch')  \n",
    "plt.legend(['train', 'test'], loc='upper left')  \n",
    "plt.show()"
   ]
  },
  {
   "cell_type": "code",
   "execution_count": null,
   "metadata": {},
   "outputs": [],
   "source": []
  },
  {
   "cell_type": "code",
   "execution_count": null,
   "metadata": {},
   "outputs": [],
   "source": []
  },
  {
   "cell_type": "code",
   "execution_count": null,
   "metadata": {},
   "outputs": [],
   "source": [
    "model = Sequential()\n",
    "model.add(Conv2D(filters = 16, kernel_size = 2,input_shape=(32,32,3),padding='same'))\n",
    "model.add(Activation('relu'))\n",
    "model.add(MaxPooling2D(pool_size=2))\n",
    "\n",
    "model.add(Conv2D(filters = 32,kernel_size = 2,activation= 'relu',padding='same'))\n",
    "model.add(MaxPooling2D(pool_size=2))\n",
    "\n",
    "model.add(Conv2D(filters = 64,kernel_size = 2,activation= 'relu',padding='same'))\n",
    "model.add(MaxPooling2D(pool_size=2))\n",
    "\n",
    "model.add(Conv2D(filters = 128,kernel_size = 2,activation= 'relu',padding='same'))\n",
    "model.add(MaxPooling2D(pool_size=2))\n",
    "\n",
    "model.add(Dropout(0.3))\n",
    "model.add(Flatten())\n",
    "model.add(Dense(150))\n",
    "model.add(Activation('relu'))\n",
    "model.add(Dropout(0.4))\n",
    "model.add(Dense(10,activation = 'softmax'))\n",
    "model.summary()\n",
    "\n",
    "\n",
    "\n",
    "model.compile(loss='categorical_crossentropy',\n",
    "              optimizer='rmsprop',\n",
    "              metrics=['accuracy'])\n",
    "print('Compiled!')\n",
    "\n",
    "history = model.fit(x_train,y_train,\n",
    "        batch_size = 32,\n",
    "        epochs=10,\n",
    "        validation_data=(x_valid, y_vaild),\n",
    "        verbose=2, \n",
    "        callbacks=[tensorboard]\n",
    "        )\n",
    "\n",
    "# evaluate and print test accuracy\n",
    "score = model.evaluate(x_test, y_test, verbose=0)\n",
    "print('\\n', 'Test accuracy:', score[1])"
   ]
  },
  {
   "cell_type": "code",
   "execution_count": null,
   "metadata": {},
   "outputs": [],
   "source": []
  },
  {
   "cell_type": "code",
   "execution_count": null,
   "metadata": {},
   "outputs": [],
   "source": []
  },
  {
   "cell_type": "code",
   "execution_count": null,
   "metadata": {},
   "outputs": [],
   "source": []
  },
  {
   "cell_type": "code",
   "execution_count": 53,
   "metadata": {},
   "outputs": [
    {
     "name": "stdout",
     "output_type": "stream",
     "text": [
      "Fruits-1-conv-32-nodes-0-dense-30052020-193611\n",
      "Compiled!\n",
      "Train on 27908 samples, validate on 7000 samples\n",
      "Epoch 1/10\n"
     ]
    },
    {
     "name": "stderr",
     "output_type": "stream",
     "text": [
      "E:\\ProgramData\\Anaconda3\\lib\\site-packages\\keras\\callbacks\\callbacks.py:95: RuntimeWarning: Method (on_train_batch_end) is slow compared to the batch update (0.120962). Check your callbacks.\n",
      "  % (hook_name, delta_t_median), RuntimeWarning)\n"
     ]
    },
    {
     "name": "stdout",
     "output_type": "stream",
     "text": [
      " - 11s - loss: 0.4333 - accuracy: 0.8710 - val_loss: 0.2970 - val_accuracy: 0.8947\n",
      "Epoch 2/10\n",
      " - 10s - loss: 0.0509 - accuracy: 0.9872 - val_loss: 0.1726 - val_accuracy: 0.9514\n",
      "Epoch 3/10\n",
      " - 10s - loss: 0.0168 - accuracy: 0.9955 - val_loss: 0.1513 - val_accuracy: 0.9544\n",
      "Epoch 4/10\n",
      " - 11s - loss: 0.0070 - accuracy: 0.9981 - val_loss: 0.1292 - val_accuracy: 0.9606\n",
      "Epoch 5/10\n",
      " - 12s - loss: 0.0036 - accuracy: 0.9992 - val_loss: 0.1910 - val_accuracy: 0.9557\n",
      "Epoch 6/10\n",
      " - 12s - loss: 0.0021 - accuracy: 0.9995 - val_loss: 0.1597 - val_accuracy: 0.9540\n",
      "Epoch 7/10\n",
      " - 11s - loss: 0.0015 - accuracy: 0.9996 - val_loss: 0.1640 - val_accuracy: 0.9617\n",
      "Epoch 8/10\n",
      " - 10s - loss: 9.1283e-04 - accuracy: 0.9998 - val_loss: 0.1653 - val_accuracy: 0.9657\n",
      "Epoch 9/10\n",
      " - 10s - loss: 6.7212e-04 - accuracy: 0.9998 - val_loss: 0.1701 - val_accuracy: 0.9670\n",
      "Epoch 10/10\n",
      " - 11s - loss: 5.8290e-04 - accuracy: 0.9998 - val_loss: 0.2084 - val_accuracy: 0.9661\n",
      "Fruits-2-conv-32-nodes-0-dense-30052020-193801\n",
      "Compiled!\n",
      "Train on 27908 samples, validate on 7000 samples\n",
      "Epoch 1/10\n",
      " - 16s - loss: 0.5564 - accuracy: 0.8204 - val_loss: 0.3356 - val_accuracy: 0.8786\n",
      "Epoch 2/10\n",
      " - 16s - loss: 0.0830 - accuracy: 0.9767 - val_loss: 0.2093 - val_accuracy: 0.9250\n",
      "Epoch 3/10\n",
      " - 16s - loss: 0.0279 - accuracy: 0.9923 - val_loss: 0.1228 - val_accuracy: 0.9617\n",
      "Epoch 4/10\n",
      " - 15s - loss: 0.0122 - accuracy: 0.9962 - val_loss: 0.1233 - val_accuracy: 0.9617\n",
      "Epoch 5/10\n",
      " - 14s - loss: 0.0078 - accuracy: 0.9973 - val_loss: 0.1055 - val_accuracy: 0.9627\n",
      "Epoch 6/10\n",
      " - 15s - loss: 0.0054 - accuracy: 0.9984 - val_loss: 0.0959 - val_accuracy: 0.9759\n",
      "Epoch 7/10\n",
      " - 16s - loss: 0.0028 - accuracy: 0.9991 - val_loss: 0.1474 - val_accuracy: 0.9600\n",
      "Epoch 8/10\n",
      " - 16s - loss: 0.0023 - accuracy: 0.9992 - val_loss: 0.1244 - val_accuracy: 0.9704\n",
      "Epoch 9/10\n",
      " - 15s - loss: 0.0022 - accuracy: 0.9994 - val_loss: 0.2486 - val_accuracy: 0.9393\n",
      "Epoch 10/10\n",
      " - 16s - loss: 0.0015 - accuracy: 0.9995 - val_loss: 0.0998 - val_accuracy: 0.9783\n",
      "Fruits-3-conv-32-nodes-0-dense-30052020-194037\n",
      "Compiled!\n",
      "Train on 27908 samples, validate on 7000 samples\n",
      "Epoch 1/10\n",
      " - 20s - loss: 0.7689 - accuracy: 0.7491 - val_loss: 0.4928 - val_accuracy: 0.8350\n",
      "Epoch 2/10\n",
      " - 16s - loss: 0.1541 - accuracy: 0.9547 - val_loss: 0.2137 - val_accuracy: 0.9181\n",
      "Epoch 3/10\n",
      " - 17s - loss: 0.0583 - accuracy: 0.9817 - val_loss: 0.7480 - val_accuracy: 0.7950\n",
      "Epoch 4/10\n",
      " - 17s - loss: 0.0295 - accuracy: 0.9913 - val_loss: 0.2195 - val_accuracy: 0.9406\n",
      "Epoch 5/10\n",
      " - 16s - loss: 0.0167 - accuracy: 0.9946 - val_loss: 0.1141 - val_accuracy: 0.9697\n",
      "Epoch 6/10\n",
      " - 17s - loss: 0.0122 - accuracy: 0.9962 - val_loss: 0.1406 - val_accuracy: 0.9693\n",
      "Epoch 7/10\n",
      " - 15s - loss: 0.0082 - accuracy: 0.9977 - val_loss: 0.1304 - val_accuracy: 0.9673\n",
      "Epoch 8/10\n"
     ]
    },
    {
     "ename": "KeyboardInterrupt",
     "evalue": "",
     "output_type": "error",
     "traceback": [
      "\u001b[1;31m---------------------------------------------------------------------------\u001b[0m",
      "\u001b[1;31mKeyboardInterrupt\u001b[0m                         Traceback (most recent call last)",
      "\u001b[1;32m<ipython-input-53-90b4524e7d85>\u001b[0m in \u001b[0;36m<module>\u001b[1;34m\u001b[0m\n\u001b[0;32m     48\u001b[0m         \u001b[0mvalidation_data\u001b[0m\u001b[1;33m=\u001b[0m\u001b[1;33m(\u001b[0m\u001b[0mx_valid\u001b[0m\u001b[1;33m,\u001b[0m \u001b[0my_vaild\u001b[0m\u001b[1;33m)\u001b[0m\u001b[1;33m,\u001b[0m\u001b[1;33m\u001b[0m\u001b[1;33m\u001b[0m\u001b[0m\n\u001b[0;32m     49\u001b[0m         \u001b[0mverbose\u001b[0m\u001b[1;33m=\u001b[0m\u001b[1;36m2\u001b[0m\u001b[1;33m,\u001b[0m\u001b[1;33m\u001b[0m\u001b[1;33m\u001b[0m\u001b[0m\n\u001b[1;32m---> 50\u001b[1;33m         \u001b[0mcallbacks\u001b[0m\u001b[1;33m=\u001b[0m\u001b[1;33m[\u001b[0m\u001b[0mtensorboard\u001b[0m\u001b[1;33m]\u001b[0m\u001b[1;33m\u001b[0m\u001b[1;33m\u001b[0m\u001b[0m\n\u001b[0m\u001b[0;32m     51\u001b[0m         )\n\u001b[0;32m     52\u001b[0m \u001b[1;33m\u001b[0m\u001b[0m\n",
      "\u001b[1;32mE:\\ProgramData\\Anaconda3\\lib\\site-packages\\keras\\engine\\training.py\u001b[0m in \u001b[0;36mfit\u001b[1;34m(self, x, y, batch_size, epochs, verbose, callbacks, validation_split, validation_data, shuffle, class_weight, sample_weight, initial_epoch, steps_per_epoch, validation_steps, validation_freq, max_queue_size, workers, use_multiprocessing, **kwargs)\u001b[0m\n\u001b[0;32m   1237\u001b[0m                                         \u001b[0msteps_per_epoch\u001b[0m\u001b[1;33m=\u001b[0m\u001b[0msteps_per_epoch\u001b[0m\u001b[1;33m,\u001b[0m\u001b[1;33m\u001b[0m\u001b[1;33m\u001b[0m\u001b[0m\n\u001b[0;32m   1238\u001b[0m                                         \u001b[0mvalidation_steps\u001b[0m\u001b[1;33m=\u001b[0m\u001b[0mvalidation_steps\u001b[0m\u001b[1;33m,\u001b[0m\u001b[1;33m\u001b[0m\u001b[1;33m\u001b[0m\u001b[0m\n\u001b[1;32m-> 1239\u001b[1;33m                                         validation_freq=validation_freq)\n\u001b[0m\u001b[0;32m   1240\u001b[0m \u001b[1;33m\u001b[0m\u001b[0m\n\u001b[0;32m   1241\u001b[0m     def evaluate(self,\n",
      "\u001b[1;32mE:\\ProgramData\\Anaconda3\\lib\\site-packages\\keras\\engine\\training_arrays.py\u001b[0m in \u001b[0;36mfit_loop\u001b[1;34m(model, fit_function, fit_inputs, out_labels, batch_size, epochs, verbose, callbacks, val_function, val_inputs, shuffle, initial_epoch, steps_per_epoch, validation_steps, validation_freq)\u001b[0m\n\u001b[0;32m    194\u001b[0m                     \u001b[0mins_batch\u001b[0m\u001b[1;33m[\u001b[0m\u001b[0mi\u001b[0m\u001b[1;33m]\u001b[0m \u001b[1;33m=\u001b[0m \u001b[0mins_batch\u001b[0m\u001b[1;33m[\u001b[0m\u001b[0mi\u001b[0m\u001b[1;33m]\u001b[0m\u001b[1;33m.\u001b[0m\u001b[0mtoarray\u001b[0m\u001b[1;33m(\u001b[0m\u001b[1;33m)\u001b[0m\u001b[1;33m\u001b[0m\u001b[1;33m\u001b[0m\u001b[0m\n\u001b[0;32m    195\u001b[0m \u001b[1;33m\u001b[0m\u001b[0m\n\u001b[1;32m--> 196\u001b[1;33m                 \u001b[0mouts\u001b[0m \u001b[1;33m=\u001b[0m \u001b[0mfit_function\u001b[0m\u001b[1;33m(\u001b[0m\u001b[0mins_batch\u001b[0m\u001b[1;33m)\u001b[0m\u001b[1;33m\u001b[0m\u001b[1;33m\u001b[0m\u001b[0m\n\u001b[0m\u001b[0;32m    197\u001b[0m                 \u001b[0mouts\u001b[0m \u001b[1;33m=\u001b[0m \u001b[0mto_list\u001b[0m\u001b[1;33m(\u001b[0m\u001b[0mouts\u001b[0m\u001b[1;33m)\u001b[0m\u001b[1;33m\u001b[0m\u001b[1;33m\u001b[0m\u001b[0m\n\u001b[0;32m    198\u001b[0m                 \u001b[1;32mfor\u001b[0m \u001b[0ml\u001b[0m\u001b[1;33m,\u001b[0m \u001b[0mo\u001b[0m \u001b[1;32min\u001b[0m \u001b[0mzip\u001b[0m\u001b[1;33m(\u001b[0m\u001b[0mout_labels\u001b[0m\u001b[1;33m,\u001b[0m \u001b[0mouts\u001b[0m\u001b[1;33m)\u001b[0m\u001b[1;33m:\u001b[0m\u001b[1;33m\u001b[0m\u001b[1;33m\u001b[0m\u001b[0m\n",
      "\u001b[1;32mE:\\ProgramData\\Anaconda3\\lib\\site-packages\\tensorflow\\python\\keras\\backend.py\u001b[0m in \u001b[0;36m__call__\u001b[1;34m(self, inputs)\u001b[0m\n\u001b[0;32m   3790\u001b[0m         \u001b[0mvalue\u001b[0m \u001b[1;33m=\u001b[0m \u001b[0mmath_ops\u001b[0m\u001b[1;33m.\u001b[0m\u001b[0mcast\u001b[0m\u001b[1;33m(\u001b[0m\u001b[0mvalue\u001b[0m\u001b[1;33m,\u001b[0m \u001b[0mtensor\u001b[0m\u001b[1;33m.\u001b[0m\u001b[0mdtype\u001b[0m\u001b[1;33m)\u001b[0m\u001b[1;33m\u001b[0m\u001b[1;33m\u001b[0m\u001b[0m\n\u001b[0;32m   3791\u001b[0m       \u001b[0mconverted_inputs\u001b[0m\u001b[1;33m.\u001b[0m\u001b[0mappend\u001b[0m\u001b[1;33m(\u001b[0m\u001b[0mvalue\u001b[0m\u001b[1;33m)\u001b[0m\u001b[1;33m\u001b[0m\u001b[1;33m\u001b[0m\u001b[0m\n\u001b[1;32m-> 3792\u001b[1;33m     \u001b[0moutputs\u001b[0m \u001b[1;33m=\u001b[0m \u001b[0mself\u001b[0m\u001b[1;33m.\u001b[0m\u001b[0m_graph_fn\u001b[0m\u001b[1;33m(\u001b[0m\u001b[1;33m*\u001b[0m\u001b[0mconverted_inputs\u001b[0m\u001b[1;33m)\u001b[0m\u001b[1;33m\u001b[0m\u001b[1;33m\u001b[0m\u001b[0m\n\u001b[0m\u001b[0;32m   3793\u001b[0m \u001b[1;33m\u001b[0m\u001b[0m\n\u001b[0;32m   3794\u001b[0m     \u001b[1;31m# EagerTensor.numpy() will often make a copy to ensure memory safety.\u001b[0m\u001b[1;33m\u001b[0m\u001b[1;33m\u001b[0m\u001b[1;33m\u001b[0m\u001b[0m\n",
      "\u001b[1;32mE:\\ProgramData\\Anaconda3\\lib\\site-packages\\tensorflow\\python\\eager\\function.py\u001b[0m in \u001b[0;36m__call__\u001b[1;34m(self, *args, **kwargs)\u001b[0m\n\u001b[0;32m   1603\u001b[0m       \u001b[0mTypeError\u001b[0m\u001b[1;33m:\u001b[0m \u001b[0mFor\u001b[0m \u001b[0minvalid\u001b[0m \u001b[0mpositional\u001b[0m\u001b[1;33m/\u001b[0m\u001b[0mkeyword\u001b[0m \u001b[0margument\u001b[0m \u001b[0mcombinations\u001b[0m\u001b[1;33m.\u001b[0m\u001b[1;33m\u001b[0m\u001b[1;33m\u001b[0m\u001b[0m\n\u001b[0;32m   1604\u001b[0m     \"\"\"\n\u001b[1;32m-> 1605\u001b[1;33m     \u001b[1;32mreturn\u001b[0m \u001b[0mself\u001b[0m\u001b[1;33m.\u001b[0m\u001b[0m_call_impl\u001b[0m\u001b[1;33m(\u001b[0m\u001b[0margs\u001b[0m\u001b[1;33m,\u001b[0m \u001b[0mkwargs\u001b[0m\u001b[1;33m)\u001b[0m\u001b[1;33m\u001b[0m\u001b[1;33m\u001b[0m\u001b[0m\n\u001b[0m\u001b[0;32m   1606\u001b[0m \u001b[1;33m\u001b[0m\u001b[0m\n\u001b[0;32m   1607\u001b[0m   \u001b[1;32mdef\u001b[0m \u001b[0m_call_impl\u001b[0m\u001b[1;33m(\u001b[0m\u001b[0mself\u001b[0m\u001b[1;33m,\u001b[0m \u001b[0margs\u001b[0m\u001b[1;33m,\u001b[0m \u001b[0mkwargs\u001b[0m\u001b[1;33m,\u001b[0m \u001b[0mcancellation_manager\u001b[0m\u001b[1;33m=\u001b[0m\u001b[1;32mNone\u001b[0m\u001b[1;33m)\u001b[0m\u001b[1;33m:\u001b[0m\u001b[1;33m\u001b[0m\u001b[1;33m\u001b[0m\u001b[0m\n",
      "\u001b[1;32mE:\\ProgramData\\Anaconda3\\lib\\site-packages\\tensorflow\\python\\eager\\function.py\u001b[0m in \u001b[0;36m_call_impl\u001b[1;34m(self, args, kwargs, cancellation_manager)\u001b[0m\n\u001b[0;32m   1643\u001b[0m       raise TypeError(\"Keyword arguments {} unknown. Expected {}.\".format(\n\u001b[0;32m   1644\u001b[0m           list(kwargs.keys()), list(self._arg_keywords)))\n\u001b[1;32m-> 1645\u001b[1;33m     \u001b[1;32mreturn\u001b[0m \u001b[0mself\u001b[0m\u001b[1;33m.\u001b[0m\u001b[0m_call_flat\u001b[0m\u001b[1;33m(\u001b[0m\u001b[0margs\u001b[0m\u001b[1;33m,\u001b[0m \u001b[0mself\u001b[0m\u001b[1;33m.\u001b[0m\u001b[0mcaptured_inputs\u001b[0m\u001b[1;33m,\u001b[0m \u001b[0mcancellation_manager\u001b[0m\u001b[1;33m)\u001b[0m\u001b[1;33m\u001b[0m\u001b[1;33m\u001b[0m\u001b[0m\n\u001b[0m\u001b[0;32m   1646\u001b[0m \u001b[1;33m\u001b[0m\u001b[0m\n\u001b[0;32m   1647\u001b[0m   \u001b[1;32mdef\u001b[0m \u001b[0m_filtered_call\u001b[0m\u001b[1;33m(\u001b[0m\u001b[0mself\u001b[0m\u001b[1;33m,\u001b[0m \u001b[0margs\u001b[0m\u001b[1;33m,\u001b[0m \u001b[0mkwargs\u001b[0m\u001b[1;33m)\u001b[0m\u001b[1;33m:\u001b[0m\u001b[1;33m\u001b[0m\u001b[1;33m\u001b[0m\u001b[0m\n",
      "\u001b[1;32mE:\\ProgramData\\Anaconda3\\lib\\site-packages\\tensorflow\\python\\eager\\function.py\u001b[0m in \u001b[0;36m_call_flat\u001b[1;34m(self, args, captured_inputs, cancellation_manager)\u001b[0m\n\u001b[0;32m   1744\u001b[0m       \u001b[1;31m# No tape is watching; skip to running the function.\u001b[0m\u001b[1;33m\u001b[0m\u001b[1;33m\u001b[0m\u001b[1;33m\u001b[0m\u001b[0m\n\u001b[0;32m   1745\u001b[0m       return self._build_call_outputs(self._inference_function.call(\n\u001b[1;32m-> 1746\u001b[1;33m           ctx, args, cancellation_manager=cancellation_manager))\n\u001b[0m\u001b[0;32m   1747\u001b[0m     forward_backward = self._select_forward_and_backward_functions(\n\u001b[0;32m   1748\u001b[0m         \u001b[0margs\u001b[0m\u001b[1;33m,\u001b[0m\u001b[1;33m\u001b[0m\u001b[1;33m\u001b[0m\u001b[0m\n",
      "\u001b[1;32mE:\\ProgramData\\Anaconda3\\lib\\site-packages\\tensorflow\\python\\eager\\function.py\u001b[0m in \u001b[0;36mcall\u001b[1;34m(self, ctx, args, cancellation_manager)\u001b[0m\n\u001b[0;32m    596\u001b[0m               \u001b[0minputs\u001b[0m\u001b[1;33m=\u001b[0m\u001b[0margs\u001b[0m\u001b[1;33m,\u001b[0m\u001b[1;33m\u001b[0m\u001b[1;33m\u001b[0m\u001b[0m\n\u001b[0;32m    597\u001b[0m               \u001b[0mattrs\u001b[0m\u001b[1;33m=\u001b[0m\u001b[0mattrs\u001b[0m\u001b[1;33m,\u001b[0m\u001b[1;33m\u001b[0m\u001b[1;33m\u001b[0m\u001b[0m\n\u001b[1;32m--> 598\u001b[1;33m               ctx=ctx)\n\u001b[0m\u001b[0;32m    599\u001b[0m         \u001b[1;32melse\u001b[0m\u001b[1;33m:\u001b[0m\u001b[1;33m\u001b[0m\u001b[1;33m\u001b[0m\u001b[0m\n\u001b[0;32m    600\u001b[0m           outputs = execute.execute_with_cancellation(\n",
      "\u001b[1;32mE:\\ProgramData\\Anaconda3\\lib\\site-packages\\tensorflow\\python\\eager\\execute.py\u001b[0m in \u001b[0;36mquick_execute\u001b[1;34m(op_name, num_outputs, inputs, attrs, ctx, name)\u001b[0m\n\u001b[0;32m     58\u001b[0m     \u001b[0mctx\u001b[0m\u001b[1;33m.\u001b[0m\u001b[0mensure_initialized\u001b[0m\u001b[1;33m(\u001b[0m\u001b[1;33m)\u001b[0m\u001b[1;33m\u001b[0m\u001b[1;33m\u001b[0m\u001b[0m\n\u001b[0;32m     59\u001b[0m     tensors = pywrap_tfe.TFE_Py_Execute(ctx._handle, device_name, op_name,\n\u001b[1;32m---> 60\u001b[1;33m                                         inputs, attrs, num_outputs)\n\u001b[0m\u001b[0;32m     61\u001b[0m   \u001b[1;32mexcept\u001b[0m \u001b[0mcore\u001b[0m\u001b[1;33m.\u001b[0m\u001b[0m_NotOkStatusException\u001b[0m \u001b[1;32mas\u001b[0m \u001b[0me\u001b[0m\u001b[1;33m:\u001b[0m\u001b[1;33m\u001b[0m\u001b[1;33m\u001b[0m\u001b[0m\n\u001b[0;32m     62\u001b[0m     \u001b[1;32mif\u001b[0m \u001b[0mname\u001b[0m \u001b[1;32mis\u001b[0m \u001b[1;32mnot\u001b[0m \u001b[1;32mNone\u001b[0m\u001b[1;33m:\u001b[0m\u001b[1;33m\u001b[0m\u001b[1;33m\u001b[0m\u001b[0m\n",
      "\u001b[1;31mKeyboardInterrupt\u001b[0m: "
     ]
    }
   ],
   "source": [
    "from datetime import datetime\n",
    "from keras.callbacks import TensorBoard\n",
    "\n",
    "dense_layers = [0, 1, 2]\n",
    "layer_sizes = [32, 64, 128]\n",
    "conv_layers = [1, 2, 3]\n",
    "\n",
    "for dense_layer in dense_layers:\n",
    "    for layer_size in layer_sizes:\n",
    "        for conv_layer in conv_layers:\n",
    "            NAME = \"Fruits-{}-conv-{}-nodes-{}-dense-{}\".format(conv_layer, layer_size, dense_layer, datetime.now().strftime(\"%d%m%Y-%H%M%S\"))\n",
    "            print(NAME)\n",
    "\n",
    "            model = Sequential()\n",
    "\n",
    "            model.add(Conv2D(layer_size, 2, input_shape=(32,32,3),padding='same'))\n",
    "            model.add(Activation('relu'))\n",
    "            model.add(MaxPooling2D(pool_size=2))\n",
    "\n",
    "            for l in range(conv_layer-1):\n",
    "                model.add(Conv2D(layer_size, 2))\n",
    "                model.add(Activation('relu'))\n",
    "                model.add(MaxPooling2D(pool_size=2))\n",
    "\n",
    "            model.add(Flatten())\n",
    "\n",
    "            for _ in range(dense_layer):\n",
    "                model.add(Dense(layer_size))\n",
    "                model.add(Activation('relu'))\n",
    "\n",
    "            model.add(Dense(10,activation = 'softmax'))\n",
    "    \n",
    "\n",
    "            tensorboard = TensorBoard(log_dir=\"logs/{}\".format(NAME))\n",
    "            #\n",
    "            #!\n",
    "            #categorical_crossentropy\n",
    "            #!\n",
    "            #\n",
    "            model.compile(loss='categorical_crossentropy',\n",
    "              optimizer='rmsprop',\n",
    "              metrics=['accuracy'])\n",
    "            print('Compiled!')\n",
    "            \n",
    "            history = model.fit(x_train,y_train,\n",
    "        batch_size = 32,\n",
    "        epochs=10,\n",
    "        validation_data=(x_valid, y_vaild),\n",
    "        verbose=2, \n",
    "        callbacks=[tensorboard]\n",
    "        )\n",
    "\n",
    "# evaluate and print test accuracy\n",
    "score = model.evaluate(x_test, y_test, verbose=0)\n",
    "print('\\n', 'Test accuracy:', score[1])"
   ]
  },
  {
   "cell_type": "code",
   "execution_count": 20,
   "metadata": {},
   "outputs": [
    {
     "name": "stdout",
     "output_type": "stream",
     "text": [
      "Fruits-1-conv-32-nodes-0-dense-29052020-162541\n",
      "Fruits-2-conv-32-nodes-0-dense-29052020-162541\n",
      "Fruits-3-conv-32-nodes-0-dense-29052020-162541\n",
      "Fruits-1-conv-64-nodes-0-dense-29052020-162541\n",
      "Fruits-2-conv-64-nodes-0-dense-29052020-162541\n",
      "Fruits-3-conv-64-nodes-0-dense-29052020-162541\n",
      "Fruits-1-conv-128-nodes-0-dense-29052020-162541\n",
      "Fruits-2-conv-128-nodes-0-dense-29052020-162541\n",
      "Fruits-3-conv-128-nodes-0-dense-29052020-162541\n",
      "Fruits-1-conv-32-nodes-1-dense-29052020-162541\n",
      "Fruits-2-conv-32-nodes-1-dense-29052020-162541\n",
      "Fruits-3-conv-32-nodes-1-dense-29052020-162541\n",
      "Fruits-1-conv-64-nodes-1-dense-29052020-162541\n",
      "Fruits-2-conv-64-nodes-1-dense-29052020-162541\n",
      "Fruits-3-conv-64-nodes-1-dense-29052020-162541\n",
      "Fruits-1-conv-128-nodes-1-dense-29052020-162541\n",
      "Fruits-2-conv-128-nodes-1-dense-29052020-162541\n",
      "Fruits-3-conv-128-nodes-1-dense-29052020-162541\n",
      "Fruits-1-conv-32-nodes-2-dense-29052020-162541\n",
      "Fruits-2-conv-32-nodes-2-dense-29052020-162541\n",
      "Fruits-3-conv-32-nodes-2-dense-29052020-162541\n",
      "Fruits-1-conv-64-nodes-2-dense-29052020-162541\n",
      "Fruits-2-conv-64-nodes-2-dense-29052020-162541\n",
      "Fruits-3-conv-64-nodes-2-dense-29052020-162541\n",
      "Fruits-1-conv-128-nodes-2-dense-29052020-162541\n",
      "Fruits-2-conv-128-nodes-2-dense-29052020-162541\n",
      "Fruits-3-conv-128-nodes-2-dense-29052020-162541\n"
     ]
    }
   ],
   "source": [
    "dense_layers = [0, 1, 2]\n",
    "layer_sizes = [32, 64, 128]\n",
    "conv_layers = [1, 2, 3]\n",
    "\n",
    "for dense_layer in dense_layers:\n",
    "    for layer_size in layer_sizes:\n",
    "        for conv_layer in conv_layers:\n",
    "            NAME = \"Fruits-{}-conv-{}-nodes-{}-dense-{}\".format(conv_layer, layer_size, dense_layer, datetime.now().strftime(\"%d%m%Y-%H%M%S\"))\n",
    "            print(NAME)"
   ]
  },
  {
   "cell_type": "code",
   "execution_count": 22,
   "metadata": {},
   "outputs": [
    {
     "ename": "TypeError",
     "evalue": "'History' object is not subscriptable",
     "output_type": "error",
     "traceback": [
      "\u001b[1;31m---------------------------------------------------------------------------\u001b[0m",
      "\u001b[1;31mTypeError\u001b[0m                                 Traceback (most recent call last)",
      "\u001b[1;32m<ipython-input-22-b4f2833c0701>\u001b[0m in \u001b[0;36m<module>\u001b[1;34m\u001b[0m\n\u001b[1;32m----> 1\u001b[1;33m \u001b[0mprint\u001b[0m\u001b[1;33m(\u001b[0m\u001b[1;34m\"Average test loss: \"\u001b[0m\u001b[1;33m,\u001b[0m \u001b[0mnp\u001b[0m\u001b[1;33m.\u001b[0m\u001b[0maverage\u001b[0m\u001b[1;33m(\u001b[0m\u001b[0mmodel\u001b[0m\u001b[1;33m.\u001b[0m\u001b[0mhistory\u001b[0m\u001b[1;33m[\u001b[0m\u001b[1;34m'loss'\u001b[0m\u001b[1;33m]\u001b[0m\u001b[1;33m)\u001b[0m\u001b[1;33m)\u001b[0m\u001b[1;33m\u001b[0m\u001b[1;33m\u001b[0m\u001b[0m\n\u001b[0m",
      "\u001b[1;31mTypeError\u001b[0m: 'History' object is not subscriptable"
     ]
    }
   ],
   "source": [
    "print(\"Average test loss: \", np.average(model.history['loss']))"
   ]
  }
 ],
 "metadata": {
  "kernelspec": {
   "display_name": "Python 3",
   "language": "python",
   "name": "python3"
  },
  "language_info": {
   "codemirror_mode": {
    "name": "ipython",
    "version": 3
   },
   "file_extension": ".py",
   "mimetype": "text/x-python",
   "name": "python",
   "nbconvert_exporter": "python",
   "pygments_lexer": "ipython3",
   "version": "3.7.4"
  }
 },
 "nbformat": 4,
 "nbformat_minor": 2
}
